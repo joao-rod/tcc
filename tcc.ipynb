{
  "cells": [
    {
      "cell_type": "markdown",
      "metadata": {
        "id": "zPku0ggI-kVu"
      },
      "source": [
        "#### Importações"
      ]
    },
    {
      "cell_type": "code",
      "execution_count": 38,
      "metadata": {
        "id": "FT7hykf58BwW"
      },
      "outputs": [],
      "source": [
        "import numpy as np\n",
        "import pandas as pd\n",
        "from sklearn.preprocessing import LabelEncoder\n",
        "from sklearn.model_selection import train_test_split\n",
        "from sklearn.neighbors import KNeighborsClassifier\n",
        "from pycaret.classification import ClassificationExperiment"
      ]
    },
    {
      "cell_type": "code",
      "execution_count": 39,
      "metadata": {
        "colab": {
          "base_uri": "https://localhost:8080/"
        },
        "id": "jLwptzKj60tv",
        "outputId": "169b5261-be0d-40c4-fb0f-4c847b3016e6"
      },
      "outputs": [],
      "source": [
        "# from google.colab import drive\n",
        "\n",
        "# drive.mount('/content/drive')\n",
        "# df = pd.read_excel('/content/drive/MyDrive/Colab Notebooks/censo_cultural.xlsx')"
      ]
    },
    {
      "cell_type": "code",
      "execution_count": 40,
      "metadata": {
        "colab": {
          "base_uri": "https://localhost:8080/",
          "height": 1000
        },
        "id": "D-CQOOww8Gvd",
        "outputId": "986d41d0-1b78-463c-da93-592ee06abf70"
      },
      "outputs": [],
      "source": [
        "df = pd.read_excel('/mnt/g/Meu Drive/Colab Notebooks/censo_cultural.xlsx')"
      ]
    },
    {
      "cell_type": "markdown",
      "metadata": {},
      "source": [
        "#### Functions"
      ]
    },
    {
      "cell_type": "markdown",
      "metadata": {},
      "source": [
        "##### Renomear colunas"
      ]
    },
    {
      "cell_type": "code",
      "execution_count": 41,
      "metadata": {
        "colab": {
          "base_uri": "https://localhost:8080/",
          "height": 1000
        },
        "id": "jz1Q1GgG8c_u",
        "outputId": "407a12fc-bfab-41d8-9da4-aadde9a4eb04"
      },
      "outputs": [],
      "source": [
        "def rename_columns()->None:\n",
        "    df.rename(columns={\n",
        "    '2) Qual o seu curso?': 'curso',\n",
        "    '3) Qual o Ano que está cursando? ': 'serie',\n",
        "    '5) Você é um aluno(a)...  ': 'tipo_residente',\n",
        "    '6) Quais dessas ATIVIDADES CULTURAIS você participa ou já participou?': 'atv_culturais',\n",
        "    '7) Quais dessas HABILIDADES MUSICAIS você possui?': 'hab_musicais',\n",
        "    '8) Quais desses ESPORTES você pratica?': 'esportes',\n",
        "    '9) Quais desses JOGOS você pratica?': 'jogos',\n",
        "    '10) Quais dessas LUTAS você pratica?': 'lutas',\n",
        "    '11) Em relação às 5 perguntas anteriores, quais dessas atividades você se considera bom e capaz de ensinar aos seus colegas?': 'melhores_atividades',\n",
        "    '12) Quais dessas ATIVIDADES CULTURAIS você gostaria de participar?': 'atv_culturais_a_fazer',\n",
        "    '13) Quais dessas HABILIDADES MUSICAIS você gostaria de possuir?': 'hab_musicais_desejadas',\n",
        "    '14) Quais desses ESPORTES você gostaria de praticar?': 'esportes_desejados',\n",
        "    '15) Quais desses JOGOS você gostaria de praticar?': 'jogos_desejados',\n",
        "    '16) Quais dessas LUTAS você gostaria de praticar?': 'lutas_desejadas',\n",
        "    '17) Em quais HORÁRIOS você teria disponibilidades para exercer Atividades Culturais?': 'horarios_disponiveis',\n",
        "    '18) Em quais LOCAIS você teria disponibilidades para exercer Atividades Culturais ': 'locais_disponiveis',\n",
        "    '19) Em relação às ESTRUTURAS EXISTENTES, o que você gostaria que melhorasse em nossa instituição?': 'melhoria_estrutura',\n",
        "    '20) Em relação às NOVAS ESTRUTURAS, o que você desejaria que houvesse em nossa instituição?': 'novas_estruturas',\n",
        "    '21) Em relação à ALIMENTAÇÃO, o que você desejaria que fosse melhorado em nossa instituição?': 'melhoria_alimentacao',\n",
        "    '22) Em relação ao TRANSPORTE, o que você desejaria que fosse melhorado?': 'transporte',\n",
        "    '23) Quais desse PROJETOS ESPECIAIS, você teria interesse em participar?': 'projetos_a_participar'\n",
        "}, inplace=True)"
      ]
    },
    {
      "cell_type": "markdown",
      "metadata": {},
      "source": [
        "##### Tratamento de strings"
      ]
    },
    {
      "cell_type": "code",
      "execution_count": 42,
      "metadata": {},
      "outputs": [],
      "source": [
        "def encoder(series_names: list)->None:\n",
        "   for serie_name in series_names:\n",
        "      enc = LabelEncoder()\n",
        "      df[serie_name] = enc.fit_transform(df[serie_name])"
      ]
    },
    {
      "cell_type": "code",
      "execution_count": 43,
      "metadata": {},
      "outputs": [],
      "source": [
        "import unidecode as uni\n",
        "\n",
        "def remove_accent(name):\n",
        "    return uni.unidecode(str(name))"
      ]
    },
    {
      "cell_type": "markdown",
      "metadata": {},
      "source": [
        "##### Dummies"
      ]
    },
    {
      "cell_type": "code",
      "execution_count": 44,
      "metadata": {},
      "outputs": [],
      "source": [
        "def insert_dummies(df: pd.DataFrame, dummies: pd.DataFrame, insert_position: int) -> None:\n",
        "    df = pd.concat([df.iloc[:, :insert_position], dummies, df.iloc[:, insert_position:]], axis=1)\n",
        "    df.drop('aux', axis=1, inplace=True)"
      ]
    },
    {
      "cell_type": "markdown",
      "metadata": {},
      "source": [
        "#### Pré-processamento dos dados"
      ]
    },
    {
      "cell_type": "code",
      "execution_count": 45,
      "metadata": {
        "id": "p_d61hjV8Tyb"
      },
      "outputs": [],
      "source": [
        "df.drop(columns=['Carimbo de data/hora', '1) Nome Completo: ', '4) Qual a sua Turma? '], inplace=True)"
      ]
    },
    {
      "cell_type": "code",
      "execution_count": 46,
      "metadata": {},
      "outputs": [],
      "source": [
        "rename_columns()"
      ]
    },
    {
      "cell_type": "code",
      "execution_count": 47,
      "metadata": {},
      "outputs": [],
      "source": [
        "for column in df.columns:\n",
        "    df[column] = df[column].str.lower()\n",
        "    df[column] = df[column].apply(remove_accent)"
      ]
    },
    {
      "cell_type": "code",
      "execution_count": 48,
      "metadata": {
        "colab": {
          "base_uri": "https://localhost:8080/"
        },
        "id": "RWBnA5SH9TuO",
        "outputId": "31f530a5-13c1-4311-b4b6-d3a502d412d7"
      },
      "outputs": [],
      "source": [
        "encoder([\n",
        "    'serie',\n",
        "    'tipo_residente',\n",
        "])"
      ]
    },
    {
      "cell_type": "code",
      "execution_count": 49,
      "metadata": {
        "colab": {
          "base_uri": "https://localhost:8080/",
          "height": 209
        },
        "id": "I_231Nuv-Rsc",
        "outputId": "c17f27a0-4ded-474b-c7b8-702c2f04c2d9"
      },
      "outputs": [
        {
          "name": "stdout",
          "output_type": "stream",
          "text": [
            "<class 'pandas.core.frame.DataFrame'>\n",
            "RangeIndex: 611 entries, 0 to 610\n",
            "Data columns (total 21 columns):\n",
            " #   Column                  Non-Null Count  Dtype \n",
            "---  ------                  --------------  ----- \n",
            " 0   curso                   611 non-null    object\n",
            " 1   serie                   611 non-null    int64 \n",
            " 2   tipo_residente          611 non-null    int64 \n",
            " 3   atv_culturais           611 non-null    object\n",
            " 4   hab_musicais            611 non-null    object\n",
            " 5   esportes                611 non-null    object\n",
            " 6   jogos                   611 non-null    object\n",
            " 7   lutas                   611 non-null    object\n",
            " 8   melhores_atividades     611 non-null    object\n",
            " 9   atv_culturais_a_fazer   611 non-null    object\n",
            " 10  hab_musicais_desejadas  611 non-null    object\n",
            " 11  esportes_desejados      611 non-null    object\n",
            " 12  jogos_desejados         611 non-null    object\n",
            " 13  lutas_desejadas         611 non-null    object\n",
            " 14  horarios_disponiveis    611 non-null    object\n",
            " 15  locais_disponiveis      611 non-null    object\n",
            " 16  melhoria_estrutura      611 non-null    object\n",
            " 17  novas_estruturas        611 non-null    object\n",
            " 18  melhoria_alimentacao    611 non-null    object\n",
            " 19  transporte              611 non-null    object\n",
            " 20  projetos_a_participar   611 non-null    object\n",
            "dtypes: int64(2), object(19)\n",
            "memory usage: 100.4+ KB\n"
          ]
        }
      ],
      "source": [
        "df.info()"
      ]
    },
    {
      "cell_type": "markdown",
      "metadata": {},
      "source": [
        "#### Pré processamento - Valores unicos"
      ]
    },
    {
      "cell_type": "markdown",
      "metadata": {},
      "source": [
        "##### atv_culturais"
      ]
    },
    {
      "cell_type": "code",
      "execution_count": 50,
      "metadata": {},
      "outputs": [],
      "source": [
        "df['aux'] = df['atv_culturais'].apply(\n",
        "    lambda column: [\n",
        "        item.strip() for item in column\n",
        "            .replace(' / ', '/')\n",
        "            .replace('/ ', '/')\n",
        "            .replace(' /', '/')\n",
        "            .replace('artes marciais', 'luta')\n",
        "            .replace('capoeira', 'luta')\n",
        "            .replace('karate', 'luta')\n",
        "            .replace('canto', 'musica')\n",
        "            .replace('outro: musica', 'musica')\n",
        "            .replace('praticava futsal no ginasio da vila sao joao', 'futsal')\n",
        "            .split(',')\n",
        "    ]\n",
        ")\n",
        "\n",
        "dummies = df['aux'].str.join('|').str.get_dummies(sep='|').add_prefix('atv_cultural_')\n",
        "\n",
        "insert_position = df.columns.get_loc('atv_culturais') + 1\n",
        "\n",
        "df = pd.concat([df.iloc[:, :insert_position], dummies, df.iloc[:, insert_position:]], axis=1)\n",
        "df.drop('aux', axis=1, inplace=True)"
      ]
    },
    {
      "cell_type": "markdown",
      "metadata": {},
      "source": [
        "##### hab_musicais"
      ]
    },
    {
      "cell_type": "code",
      "execution_count": 51,
      "metadata": {},
      "outputs": [],
      "source": [
        "df['aux'] = df['hab_musicais'].apply(\n",
        "    lambda column: [\n",
        "        item.strip() for item in column\n",
        "            .replace(' / ', '/')\n",
        "            .replace('/ ', '/')\n",
        "            .replace(' /', '/')\n",
        "            .split(',')\n",
        "    ]\n",
        ")\n",
        "\n",
        "dummies = df['aux'].str.join('|').str.get_dummies(sep='|').add_prefix('hab_musical_')\n",
        "\n",
        "insert_position = df.columns.get_loc('hab_musicais') + 1\n",
        "\n",
        "df = pd.concat([df.iloc[:, :insert_position], dummies, df.iloc[:, insert_position:]], axis=1)\n",
        "df.drop('aux', axis=1, inplace=True)"
      ]
    },
    {
      "cell_type": "markdown",
      "metadata": {},
      "source": [
        "##### esportes"
      ]
    },
    {
      "cell_type": "code",
      "execution_count": 52,
      "metadata": {},
      "outputs": [],
      "source": [
        "df['aux'] = df['esportes'].apply(\n",
        "    lambda column: [\n",
        "        item.strip() for item in column\n",
        "            .replace(' / ', '/')\n",
        "            .replace('/ ', '/')\n",
        "            .replace(' /', '/')\n",
        "            .replace('caminhada/corridaa', 'caminhada/corrida')\n",
        "            .replace('futbol de campo', 'futebol de campo')\n",
        "            .replace('futbol de salao', 'futebol de salao')\n",
        "            .replace('handbol', 'handebol')\n",
        "            .replace('musculacao', 'academia')\n",
        "            .replace('karate', 'artes marciais')\n",
        "            .split(',')\n",
        "    ]\n",
        ")\n",
        "\n",
        "dummies = df['aux'].str.join('|').str.get_dummies(sep='|').add_prefix('esporte_')\n",
        "\n",
        "insert_position = df.columns.get_loc('esportes') + 1\n",
        "\n",
        "df = pd.concat([df.iloc[:, :insert_position], dummies, df.iloc[:, insert_position:]], axis=1)\n",
        "df.drop('aux', axis=1, inplace=True)"
      ]
    },
    {
      "cell_type": "markdown",
      "metadata": {},
      "source": [
        "##### jogos"
      ]
    },
    {
      "cell_type": "code",
      "execution_count": 53,
      "metadata": {},
      "outputs": [],
      "source": [
        "df['aux'] = df['jogos'].apply(\n",
        "    lambda column: [\n",
        "        item.strip() for item in column\n",
        "            .replace(' / ', '/')\n",
        "            .replace('/ ', '/')\n",
        "            .replace(' /', '/')\n",
        "            .replace('assim como o de mesa', 'rpg')\n",
        "            .replace('filho da puta', 'nenhuma opcao')\n",
        "            .replace('league of legends', 'jogos eletronicos')\n",
        "            .replace('overwatch', 'jogos eletronicos')\n",
        "            .replace(\"(toto)\", '')\n",
        "            .replace('pebolin', 'pebolin/toto')\n",
        "            .replace('por exemplo o d&d', 'rpg')\n",
        "            .replace('rpg variados', 'rpg')\n",
        "            .replace('xadres', 'xadrez')\n",
        "            .split(',')\n",
        "    ]\n",
        ")\n",
        "\n",
        "dummies = df['aux'].str.join('|').str.get_dummies(sep='|').add_prefix('jogo_')\n",
        "\n",
        "insert_position = df.columns.get_loc('jogos') + 1\n",
        "\n",
        "df = pd.concat([df.iloc[:, :insert_position], dummies, df.iloc[:, insert_position:]], axis=1)\n",
        "df.drop('aux', axis=1, inplace=True)"
      ]
    },
    {
      "cell_type": "markdown",
      "metadata": {},
      "source": [
        "##### lutas"
      ]
    },
    {
      "cell_type": "code",
      "execution_count": 54,
      "metadata": {},
      "outputs": [],
      "source": [
        "df['aux'] = df['lutas'].apply(\n",
        "    lambda column: [\n",
        "        item.strip() for item in column\n",
        "            .replace(' / ', '/')\n",
        "            .replace('/ ', '/')\n",
        "            .replace(' /', '/')\n",
        "            .replace('ja pratiquei karate', 'karate')\n",
        "            .split(',')\n",
        "    ]\n",
        ")\n",
        "\n",
        "dummies = df['aux'].str.join('|').str.get_dummies(sep='|').add_prefix('luta_')\n",
        "\n",
        "insert_position = df.columns.get_loc('lutas') + 1\n",
        "\n",
        "df = pd.concat([df.iloc[:, :insert_position], dummies, df.iloc[:, insert_position:]], axis=1)\n",
        "df.drop('aux', axis=1, inplace=True)"
      ]
    },
    {
      "cell_type": "markdown",
      "metadata": {},
      "source": [
        "##### melhores_atividades <div style=\"color: #ce1b0c\"> VALIDAR NECESSIDADE </div>"
      ]
    },
    {
      "cell_type": "code",
      "execution_count": 55,
      "metadata": {},
      "outputs": [],
      "source": [
        "# df['aux'] = df['melhores_atividades'].apply(\n",
        "#     lambda column: [\n",
        "#         item.strip() for item in column\n",
        "#             .replace(' / ', '/')\n",
        "#             .replace('/ ', '/')\n",
        "#             .replace(' /', '/')\n",
        "#             .replace('ja pratiquei karate', 'karate')\n",
        "#             .split(',')\n",
        "#     ]\n",
        "# )\n",
        "\n",
        "# dummies = df['aux'].str.join('|').str.get_dummies(sep='|').add_prefix('melhores_atividades_')\n",
        "\n",
        "# insert_position = df.columns.get_loc('melhores_atividades') + 1\n",
        "\n",
        "# df = pd.concat([df.iloc[:, :insert_position], dummies, df.iloc[:, insert_position:]], axis=1)\n",
        "# df.drop('aux', axis=1, inplace=True)"
      ]
    },
    {
      "cell_type": "markdown",
      "metadata": {},
      "source": [
        "##### atv_culturais_a_fazer"
      ]
    },
    {
      "cell_type": "code",
      "execution_count": 56,
      "metadata": {},
      "outputs": [],
      "source": [
        "df['aux'] = df['atv_culturais_a_fazer'].apply(\n",
        "    lambda column: [\n",
        "        item.strip() for item in column\n",
        "            .replace(' / ', '/')\n",
        "            .replace('/ ', '/')\n",
        "            .replace(' /', '/')\n",
        "            .replace('aula de bateria', 'aprender algum instrumento')\n",
        "            .replace('tocar teclado ou outros instrumentos.', 'aprender algum instrumento')\n",
        "            .replace('(marquei poesia, mas sou boa em leitura, nao em escrever)', '')\n",
        "            .replace('outras opcoes (especifique) ou observacoes', '')\n",
        "            .replace('karate', 'luta')\n",
        "            .replace('jiu-jitsu', 'luta')\n",
        "            .split(',')\n",
        "    ]\n",
        ")\n",
        "\n",
        "dummies = df['aux'].str.join('|').str.get_dummies(sep='|').add_prefix('atv_cultural_a_fazer_')\n",
        "\n",
        "insert_position = df.columns.get_loc('atv_culturais_a_fazer') + 1\n",
        "\n",
        "df = pd.concat([df.iloc[:, :insert_position], dummies, df.iloc[:, insert_position:]], axis=1)\n",
        "df.drop('aux', axis=1, inplace=True)"
      ]
    },
    {
      "cell_type": "markdown",
      "metadata": {},
      "source": [
        "##### hab_musicais_desejadas"
      ]
    },
    {
      "cell_type": "code",
      "execution_count": 57,
      "metadata": {},
      "outputs": [],
      "source": [
        "df['aux'] = df['hab_musicais_desejadas'].apply(\n",
        "    lambda column: [\n",
        "        item.strip() for item in column\n",
        "            .replace(' / ', '/')\n",
        "            .replace('/ ', '/')\n",
        "            .replace(' /', '/')\n",
        "            .replace('percussao', '')\n",
        "            .replace('percussa', '')\n",
        "            .replace('bateria/', 'bateria/percussao')\n",
        "            .replace('violao/guitarra/demais instrumentos de corda', 'canto, instrumentos de corda')\n",
        "            .replace('canto/violao/guitarra/demais instrumentos de corda', 'canto/canto, instrumentos de corda')\n",
        "            .replace('canto/canto', 'canto')\n",
        "            .split(',')\n",
        "    ]\n",
        ")\n",
        "\n",
        "dummies = df['aux'].str.join('|').str.get_dummies(sep='|').add_prefix('hab_musicais_desejadas_')\n",
        "\n",
        "insert_position = df.columns.get_loc('hab_musicais_desejadas') + 1\n",
        "\n",
        "df = pd.concat([df.iloc[:, :insert_position], dummies, df.iloc[:, insert_position:]], axis=1)\n",
        "df.drop('aux', axis=1, inplace=True)"
      ]
    },
    {
      "cell_type": "markdown",
      "metadata": {},
      "source": [
        "##### esportes_desejados"
      ]
    },
    {
      "cell_type": "code",
      "execution_count": 58,
      "metadata": {},
      "outputs": [],
      "source": [
        "df['aux'] = df['esportes_desejados'].apply(\n",
        "    lambda column: [\n",
        "        item.strip() for item in column\n",
        "            .replace(' / ', '/')\n",
        "            .replace('/ ', '/')\n",
        "            .replace(' /', '/')\n",
        "            .replace('futbol de campo', 'futebol de campo')\n",
        "            .replace('futebol de campo/basquete/handebol/pingue pongue/peteca/futmesa', 'futebol de campo, basquete, handebol, pingue pongue, peteca, futmesa')\n",
        "            .replace('futvilei', 'futvolei')\n",
        "            .replace('handbol', 'handebol')\n",
        "            .replace('queimada e atletismo', 'queimada, atletismo')\n",
        "            .replace('voleiboll', 'voleibol')\n",
        "            .replace('voleiwheeling e moto crossboll', 'wheeling/moto cross')\n",
        "            .split(',')\n",
        "    ]\n",
        ")\n",
        "\n",
        "dummies = df['aux'].str.join('|').str.get_dummies(sep='|').add_prefix('esportes_desejados_')\n",
        "\n",
        "insert_position = df.columns.get_loc('esportes_desejados') + 1\n",
        "\n",
        "df = pd.concat([df.iloc[:, :insert_position], dummies, df.iloc[:, insert_position:]], axis=1)\n",
        "df.drop('aux', axis=1, inplace=True)"
      ]
    },
    {
      "cell_type": "markdown",
      "metadata": {},
      "source": [
        "##### jogos_desejados"
      ]
    },
    {
      "cell_type": "code",
      "execution_count": 59,
      "metadata": {},
      "outputs": [],
      "source": [
        "df['aux'] = df['jogos_desejados'].apply(\n",
        "    lambda column: [\n",
        "        item.strip() for item in column\n",
        "            .replace(' / ', '/')\n",
        "            .replace('/ ', '/')\n",
        "            .replace(' /', '/')\n",
        "            .replace(\"(toto)\", '')\n",
        "            .replace('pebolin', 'pebolin/toto')\n",
        "            .split(',')\n",
        "    ]\n",
        ")\n",
        "\n",
        "dummies = df['aux'].str.join('|').str.get_dummies(sep='|').add_prefix('jogos_desejados_')\n",
        "\n",
        "insert_position = df.columns.get_loc('jogos_desejados') + 1\n",
        "\n",
        "df = pd.concat([df.iloc[:, :insert_position], dummies, df.iloc[:, insert_position:]], axis=1)\n",
        "df.drop('aux', axis=1, inplace=True)"
      ]
    },
    {
      "cell_type": "markdown",
      "metadata": {},
      "source": [
        "##### lutas_desejadas"
      ]
    },
    {
      "cell_type": "code",
      "execution_count": 60,
      "metadata": {},
      "outputs": [],
      "source": [
        "df['aux'] = df['lutas_desejadas'].apply(\n",
        "    lambda column: [\n",
        "        item.strip() for item in column\n",
        "            .replace(' / ', '/')\n",
        "            .replace('/ ', '/')\n",
        "            .replace(' /', '/')\n",
        "            .replace(\"kung fuh\", 'kung fu')\n",
        "            .split(',')\n",
        "    ]\n",
        ")\n",
        "\n",
        "dummies = df['aux'].str.join('|').str.get_dummies(sep='|').add_prefix('lutas_desejadas_')\n",
        "\n",
        "insert_position = df.columns.get_loc('lutas_desejadas') + 1\n",
        "\n",
        "df = pd.concat([df.iloc[:, :insert_position], dummies, df.iloc[:, insert_position:]], axis=1)\n",
        "df.drop('aux', axis=1, inplace=True)"
      ]
    }
  ],
  "metadata": {
    "colab": {
      "provenance": []
    },
    "kernelspec": {
      "display_name": ".venv",
      "language": "python",
      "name": "python3"
    },
    "language_info": {
      "codemirror_mode": {
        "name": "ipython",
        "version": 3
      },
      "file_extension": ".py",
      "mimetype": "text/x-python",
      "name": "python",
      "nbconvert_exporter": "python",
      "pygments_lexer": "ipython3",
      "version": "3.10.12"
    }
  },
  "nbformat": 4,
  "nbformat_minor": 0
}
