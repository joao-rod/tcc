{
  "cells": [
    {
      "cell_type": "markdown",
      "metadata": {
        "id": "zPku0ggI-kVu"
      },
      "source": [
        "#### Importações"
      ]
    },
    {
      "cell_type": "code",
      "execution_count": 1,
      "metadata": {
        "id": "FT7hykf58BwW"
      },
      "outputs": [],
      "source": [
        "import numpy as np\n",
        "import pandas as pd\n",
        "from sklearn.preprocessing import LabelEncoder\n",
        "from sklearn.model_selection import train_test_split\n",
        "from sklearn.neighbors import KNeighborsClassifier\n",
        "from pycaret.classification import ClassificationExperiment"
      ]
    },
    {
      "cell_type": "code",
      "execution_count": 2,
      "metadata": {
        "colab": {
          "base_uri": "https://localhost:8080/"
        },
        "id": "jLwptzKj60tv",
        "outputId": "169b5261-be0d-40c4-fb0f-4c847b3016e6"
      },
      "outputs": [],
      "source": [
        "# from google.colab import drive\n",
        "\n",
        "# drive.mount('/content/drive')\n",
        "# df = pd.read_excel('/content/drive/MyDrive/Colab Notebooks/censo_cultural.xlsx')"
      ]
    },
    {
      "cell_type": "code",
      "execution_count": 3,
      "metadata": {
        "colab": {
          "base_uri": "https://localhost:8080/",
          "height": 1000
        },
        "id": "D-CQOOww8Gvd",
        "outputId": "986d41d0-1b78-463c-da93-592ee06abf70"
      },
      "outputs": [],
      "source": [
        "df = pd.read_excel('/mnt/g/Meu Drive/Colab Notebooks/censo_cultural.xlsx')"
      ]
    },
    {
      "cell_type": "markdown",
      "metadata": {},
      "source": [
        "#### Functions"
      ]
    },
    {
      "cell_type": "markdown",
      "metadata": {},
      "source": [
        "##### Renomear colunas"
      ]
    },
    {
      "cell_type": "code",
      "execution_count": 4,
      "metadata": {
        "colab": {
          "base_uri": "https://localhost:8080/",
          "height": 1000
        },
        "id": "jz1Q1GgG8c_u",
        "outputId": "407a12fc-bfab-41d8-9da4-aadde9a4eb04"
      },
      "outputs": [],
      "source": [
        "def rename_columns()->None:\n",
        "    df.rename(columns={\n",
        "    '2) Qual o seu curso?': 'curso',\n",
        "    '3) Qual o Ano que está cursando? ': 'serie',\n",
        "    '4) Qual a sua Turma? ': 'turma',\n",
        "    '5) Você é um aluno(a)...  ': 'tipo_residente',\n",
        "    '6) Quais dessas ATIVIDADES CULTURAIS você participa ou já participou?': 'atv_culturais',\n",
        "    '7) Quais dessas HABILIDADES MUSICAIS você possui?': 'hab_musicais',\n",
        "    '8) Quais desses ESPORTES você pratica?': 'esportes',\n",
        "    '9) Quais desses JOGOS você pratica?': 'jogos',\n",
        "    '10) Quais dessas LUTAS você pratica?': 'lutas',\n",
        "    '11) Em relação às 5 perguntas anteriores, quais dessas atividades você se considera bom e capaz de ensinar aos seus colegas?': 'melhores_atividades',\n",
        "    '12) Quais dessas ATIVIDADES CULTURAIS você gostaria de participar?': 'atv_culturais_a_fazer',\n",
        "    '13) Quais dessas HABILIDADES MUSICAIS você gostaria de possuir?': 'hab_musicais_desejadas',\n",
        "    '14) Quais desses ESPORTES você gostaria de praticar?': 'esportes_desejados',\n",
        "    '15) Quais desses JOGOS você gostaria de praticar?': 'jogos_desejados',\n",
        "    '16) Quais dessas LUTAS você gostaria de praticar?': 'lutas_desejadas',\n",
        "    '17) Em quais HORÁRIOS você teria disponibilidades para exercer Atividades Culturais?': 'horarios_disponiveis',\n",
        "    '18) Em quais LOCAIS você teria disponibilidades para exercer Atividades Culturais ': 'locais_disponiveis',\n",
        "    '19) Em relação às ESTRUTURAS EXISTENTES, o que você gostaria que melhorasse em nossa instituição?': 'melhoria_estrutura',\n",
        "    '20) Em relação às NOVAS ESTRUTURAS, o que você desejaria que houvesse em nossa instituição?': 'novas_estruturas',\n",
        "    '21) Em relação à ALIMENTAÇÃO, o que você desejaria que fosse melhorado em nossa instituição?': 'melhoria_alimentacao',\n",
        "    '22) Em relação ao TRANSPORTE, o que você desejaria que fosse melhorado?': 'transporte',\n",
        "    '23) Quais desse PROJETOS ESPECIAIS, você teria interesse em participar?': 'projetos_a_participar'\n",
        "}, inplace=True)"
      ]
    },
    {
      "cell_type": "markdown",
      "metadata": {},
      "source": [
        "##### Tratamento de strings"
      ]
    },
    {
      "cell_type": "code",
      "execution_count": 5,
      "metadata": {},
      "outputs": [],
      "source": [
        "def encoder(series_names: list)->None:\n",
        "   for serie_name in series_names:\n",
        "      enc = LabelEncoder()\n",
        "      df[serie_name] = enc.fit_transform(df[serie_name])"
      ]
    },
    {
      "cell_type": "code",
      "execution_count": 6,
      "metadata": {},
      "outputs": [],
      "source": [
        "import unidecode as uni\n",
        "\n",
        "def remove_accent(name):\n",
        "    return uni.unidecode(str(name))"
      ]
    },
    {
      "cell_type": "markdown",
      "metadata": {},
      "source": [
        "##### Dummies"
      ]
    },
    {
      "cell_type": "code",
      "execution_count": 7,
      "metadata": {},
      "outputs": [],
      "source": [
        "def insert_dummies(df: pd.DataFrame, dummies: pd.DataFrame, insert_position: int) -> None:\n",
        "    df = pd.concat([df.iloc[:, :insert_position], dummies, df.iloc[:, insert_position:]], axis=1)\n",
        "    df.drop('aux', axis=1, inplace=True)"
      ]
    },
    {
      "cell_type": "markdown",
      "metadata": {},
      "source": [
        "#### Pré-processamento dos dados"
      ]
    },
    {
      "cell_type": "code",
      "execution_count": 8,
      "metadata": {
        "id": "p_d61hjV8Tyb"
      },
      "outputs": [],
      "source": [
        "df.drop(columns=['Carimbo de data/hora', '1) Nome Completo: '], inplace=True)"
      ]
    },
    {
      "cell_type": "code",
      "execution_count": 9,
      "metadata": {},
      "outputs": [],
      "source": [
        "rename_columns()"
      ]
    },
    {
      "cell_type": "code",
      "execution_count": 10,
      "metadata": {},
      "outputs": [],
      "source": [
        "for column in df.columns:\n",
        "    df[column] = df[column].str.lower()\n",
        "    df[column] = df[column].apply(remove_accent)"
      ]
    },
    {
      "cell_type": "code",
      "execution_count": 11,
      "metadata": {
        "colab": {
          "base_uri": "https://localhost:8080/"
        },
        "id": "RWBnA5SH9TuO",
        "outputId": "31f530a5-13c1-4311-b4b6-d3a502d412d7"
      },
      "outputs": [],
      "source": [
        "encoder([\n",
        "    'serie',\n",
        "    'turma',\n",
        "    'tipo_residente',\n",
        "])"
      ]
    },
    {
      "cell_type": "code",
      "execution_count": 12,
      "metadata": {
        "colab": {
          "base_uri": "https://localhost:8080/",
          "height": 209
        },
        "id": "I_231Nuv-Rsc",
        "outputId": "c17f27a0-4ded-474b-c7b8-702c2f04c2d9"
      },
      "outputs": [
        {
          "name": "stdout",
          "output_type": "stream",
          "text": [
            "<class 'pandas.core.frame.DataFrame'>\n",
            "RangeIndex: 611 entries, 0 to 610\n",
            "Data columns (total 22 columns):\n",
            " #   Column                  Non-Null Count  Dtype \n",
            "---  ------                  --------------  ----- \n",
            " 0   curso                   611 non-null    object\n",
            " 1   serie                   611 non-null    int64 \n",
            " 2   turma                   611 non-null    int64 \n",
            " 3   tipo_residente          611 non-null    int64 \n",
            " 4   atv_culturais           611 non-null    object\n",
            " 5   hab_musicais            611 non-null    object\n",
            " 6   esportes                611 non-null    object\n",
            " 7   jogos                   611 non-null    object\n",
            " 8   lutas                   611 non-null    object\n",
            " 9   melhores_atividades     611 non-null    object\n",
            " 10  atv_culturais_a_fazer   611 non-null    object\n",
            " 11  hab_musicais_desejadas  611 non-null    object\n",
            " 12  esportes_desejados      611 non-null    object\n",
            " 13  jogos_desejados         611 non-null    object\n",
            " 14  lutas_desejadas         611 non-null    object\n",
            " 15  horarios_disponiveis    611 non-null    object\n",
            " 16  locais_disponiveis      611 non-null    object\n",
            " 17  melhoria_estrutura      611 non-null    object\n",
            " 18  novas_estruturas        611 non-null    object\n",
            " 19  melhoria_alimentacao    611 non-null    object\n",
            " 20  transporte              611 non-null    object\n",
            " 21  projetos_a_participar   611 non-null    object\n",
            "dtypes: int64(3), object(19)\n",
            "memory usage: 105.1+ KB\n"
          ]
        }
      ],
      "source": [
        "df.info()"
      ]
    },
    {
      "cell_type": "code",
      "execution_count": 13,
      "metadata": {},
      "outputs": [
        {
          "data": {
            "text/plain": [
              "turma\n",
              "0    253\n",
              "1    251\n",
              "2    107\n",
              "Name: count, dtype: int64"
            ]
          },
          "execution_count": 13,
          "metadata": {},
          "output_type": "execute_result"
        }
      ],
      "source": [
        "df.turma.value_counts()"
      ]
    },
    {
      "cell_type": "markdown",
      "metadata": {},
      "source": [
        "#### Pré processamento - Valores unicos"
      ]
    },
    {
      "cell_type": "markdown",
      "metadata": {},
      "source": [
        "##### atv_culturais"
      ]
    },
    {
      "cell_type": "code",
      "execution_count": 14,
      "metadata": {},
      "outputs": [],
      "source": [
        "# df['aux'] = df['atv_culturais'].apply(\n",
        "#     lambda column: [\n",
        "#         item.strip() for item in column\n",
        "#             .replace(' / ', '/')\n",
        "#             .replace('/ ', '/')\n",
        "#             .replace(' /', '/')\n",
        "#             .replace('artes marciais', 'luta')\n",
        "#             .replace('capoeira', 'luta')\n",
        "#             .replace('karate', 'luta')\n",
        "#             .replace('canto', 'musica')\n",
        "#             .replace('outro: musica', 'musica')\n",
        "#             .replace('praticava futsal no ginasio da vila sao joao', 'futsal')\n",
        "#             .split(',')\n",
        "#     ]\n",
        "# )\n",
        "\n",
        "# dummies = df['aux'].str.join('|').str.get_dummies(sep='|').add_prefix('atv_cultural_')\n",
        "\n",
        "# insert_position = df.columns.get_loc('atv_culturais') + 1\n",
        "\n",
        "# df = pd.concat([df.iloc[:, :insert_position], dummies, df.iloc[:, insert_position:]], axis=1)\n",
        "# df.drop('aux', axis=1, inplace=True)"
      ]
    },
    {
      "cell_type": "markdown",
      "metadata": {},
      "source": [
        "##### hab_musicais"
      ]
    },
    {
      "cell_type": "code",
      "execution_count": 15,
      "metadata": {},
      "outputs": [],
      "source": [
        "# df['aux'] = df['hab_musicais'].apply(\n",
        "#     lambda column: [\n",
        "#         item.strip() for item in column\n",
        "#             .replace(' / ', '/')\n",
        "#             .replace('/ ', '/')\n",
        "#             .replace(' /', '/')\n",
        "#             .split(',')\n",
        "#     ]\n",
        "# )\n",
        "\n",
        "# dummies = df['aux'].str.join('|').str.get_dummies(sep='|').add_prefix('hab_musical_')\n",
        "\n",
        "# insert_position = df.columns.get_loc('hab_musicais') + 1\n",
        "\n",
        "# df = pd.concat([df.iloc[:, :insert_position], dummies, df.iloc[:, insert_position:]], axis=1)\n",
        "# df.drop('aux', axis=1, inplace=True)"
      ]
    },
    {
      "cell_type": "markdown",
      "metadata": {},
      "source": [
        "##### esportes"
      ]
    },
    {
      "cell_type": "code",
      "execution_count": 16,
      "metadata": {},
      "outputs": [],
      "source": [
        "# df['aux'] = df['esportes'].apply(\n",
        "#     lambda column: [\n",
        "#         item.strip() for item in column\n",
        "#             .replace(' / ', '/')\n",
        "#             .replace('/ ', '/')\n",
        "#             .replace(' /', '/')\n",
        "#             .replace('caminhada/corridaa', 'caminhada/corrida')\n",
        "#             .replace('futbol de campo', 'futebol de campo')\n",
        "#             .replace('futbol de salao', 'futebol de salao')\n",
        "#             .replace('handbol', 'handebol')\n",
        "#             .replace('musculacao', 'academia')\n",
        "#             .replace('karate', 'artes marciais')\n",
        "#             .split(',')\n",
        "#     ]\n",
        "# )\n",
        "\n",
        "# dummies = df['aux'].str.join('|').str.get_dummies(sep='|').add_prefix('esporte_')\n",
        "\n",
        "# insert_position = df.columns.get_loc('esportes') + 1\n",
        "\n",
        "# df = pd.concat([df.iloc[:, :insert_position], dummies, df.iloc[:, insert_position:]], axis=1)\n",
        "# df.drop('aux', axis=1, inplace=True)"
      ]
    },
    {
      "cell_type": "markdown",
      "metadata": {},
      "source": [
        "##### jogos"
      ]
    },
    {
      "cell_type": "code",
      "execution_count": 17,
      "metadata": {},
      "outputs": [],
      "source": [
        "# df['aux'] = df['jogos'].apply(\n",
        "#     lambda column: [\n",
        "#         item.strip() for item in column\n",
        "#             .replace(' / ', '/')\n",
        "#             .replace('/ ', '/')\n",
        "#             .replace(' /', '/')\n",
        "#             .replace('assim como o de mesa', 'rpg')\n",
        "#             .replace('filho da puta', 'nenhuma opcao')\n",
        "#             .replace('league of legends', 'jogos eletronicos')\n",
        "#             .replace('overwatch', 'jogos eletronicos')\n",
        "#             .replace(\"(toto)\", '')\n",
        "#             .replace('pebolin', 'pebolin/toto')\n",
        "#             .replace('por exemplo o d&d', 'rpg')\n",
        "#             .replace('rpg variados', 'rpg')\n",
        "#             .replace('xadres', 'xadrez')\n",
        "#             .split(',')\n",
        "#     ]\n",
        "# )\n",
        "\n",
        "# dummies = df['aux'].str.join('|').str.get_dummies(sep='|').add_prefix('jogo_')\n",
        "\n",
        "# insert_position = df.columns.get_loc('jogos') + 1\n",
        "\n",
        "# df = pd.concat([df.iloc[:, :insert_position], dummies, df.iloc[:, insert_position:]], axis=1)\n",
        "# df.drop('aux', axis=1, inplace=True)"
      ]
    },
    {
      "cell_type": "markdown",
      "metadata": {},
      "source": [
        "##### lutas"
      ]
    },
    {
      "cell_type": "code",
      "execution_count": 18,
      "metadata": {},
      "outputs": [],
      "source": [
        "# df['aux'] = df['lutas'].apply(\n",
        "#     lambda column: [\n",
        "#         item.strip() for item in column\n",
        "#             .replace(' / ', '/')\n",
        "#             .replace('/ ', '/')\n",
        "#             .replace(' /', '/')\n",
        "#             .replace('ja pratiquei karate', 'karate')\n",
        "#             .split(',')\n",
        "#     ]\n",
        "# )\n",
        "\n",
        "# dummies = df['aux'].str.join('|').str.get_dummies(sep='|').add_prefix('luta_')\n",
        "\n",
        "# insert_position = df.columns.get_loc('lutas') + 1\n",
        "\n",
        "# df = pd.concat([df.iloc[:, :insert_position], dummies, df.iloc[:, insert_position:]], axis=1)\n",
        "# df.drop('aux', axis=1, inplace=True)"
      ]
    },
    {
      "cell_type": "markdown",
      "metadata": {},
      "source": [
        "##### melhores_atividades <div style=\"color: #ce1b0c\"> VALIDAR NECESSIDADE </div>"
      ]
    },
    {
      "cell_type": "code",
      "execution_count": 19,
      "metadata": {},
      "outputs": [],
      "source": [
        "# df['aux'] = df['melhores_atividades'].apply(\n",
        "#     lambda column: [\n",
        "#         item.strip() for item in column\n",
        "#             .replace(' / ', '/')\n",
        "#             .replace('/ ', '/')\n",
        "#             .replace(' /', '/')\n",
        "#             .replace('ja pratiquei karate', 'karate')\n",
        "#             .split(',')\n",
        "#     ]\n",
        "# )\n",
        "\n",
        "# dummies = df['aux'].str.join('|').str.get_dummies(sep='|').add_prefix('melhores_atividades_')\n",
        "\n",
        "# insert_position = df.columns.get_loc('melhores_atividades') + 1\n",
        "\n",
        "# df = pd.concat([df.iloc[:, :insert_position], dummies, df.iloc[:, insert_position:]], axis=1)\n",
        "# df.drop('aux', axis=1, inplace=True)"
      ]
    },
    {
      "cell_type": "markdown",
      "metadata": {},
      "source": [
        "##### atv_culturais_a_fazer"
      ]
    },
    {
      "cell_type": "code",
      "execution_count": 20,
      "metadata": {},
      "outputs": [],
      "source": [
        "df['aux'] = df['atv_culturais_a_fazer'].apply(\n",
        "    lambda column: [\n",
        "        item.strip() for item in column\n",
        "            .replace(' / ', '/')\n",
        "            .replace('/ ', '/')\n",
        "            .replace(' /', '/')\n",
        "            .replace('jiu-jitsu', 'luta')\n",
        "            .replace('karate', 'luta')\n",
        "            .split(',')\n",
        "    ]\n",
        ")\n",
        "\n",
        "dummies = df['aux'].str.join('|').str.get_dummies(sep='|').add_prefix('atv_cultural_a_fazer_')\n",
        "\n",
        "insert_position = df.columns.get_loc('atv_culturais_a_fazer') + 1\n",
        "\n",
        "df = pd.concat([df.iloc[:, :insert_position], dummies, df.iloc[:, insert_position:]], axis=1)\n",
        "df.drop('aux', axis=1, inplace=True)"
      ]
    }
  ],
  "metadata": {
    "colab": {
      "provenance": []
    },
    "kernelspec": {
      "display_name": ".venv",
      "language": "python",
      "name": "python3"
    },
    "language_info": {
      "codemirror_mode": {
        "name": "ipython",
        "version": 3
      },
      "file_extension": ".py",
      "mimetype": "text/x-python",
      "name": "python",
      "nbconvert_exporter": "python",
      "pygments_lexer": "ipython3",
      "version": "3.10.12"
    }
  },
  "nbformat": 4,
  "nbformat_minor": 0
}
