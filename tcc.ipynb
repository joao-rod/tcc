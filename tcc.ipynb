{
  "cells": [
    {
      "cell_type": "markdown",
      "metadata": {
        "id": "zPku0ggI-kVu"
      },
      "source": [
        "#### ⚙️ Importações"
      ]
    },
    {
      "cell_type": "code",
      "execution_count": 369,
      "metadata": {
        "id": "FT7hykf58BwW"
      },
      "outputs": [],
      "source": [
        "import numpy as np\n",
        "import pandas as pd\n",
        "from sklearn.preprocessing import LabelEncoder\n",
        "from sklearn.model_selection import train_test_split\n",
        "from sklearn.neighbors import KNeighborsClassifier\n",
        "from pycaret.classification import ClassificationExperiment"
      ]
    },
    {
      "cell_type": "code",
      "execution_count": 370,
      "metadata": {
        "colab": {
          "base_uri": "https://localhost:8080/"
        },
        "id": "jLwptzKj60tv",
        "outputId": "169b5261-be0d-40c4-fb0f-4c847b3016e6"
      },
      "outputs": [],
      "source": [
        "# from google.colab import drive\n",
        "\n",
        "# drive.mount('/content/drive')\n",
        "# df = pd.read_excel('/content/drive/MyDrive/Colab Notebooks/censo_cultural.xlsx')"
      ]
    },
    {
      "cell_type": "code",
      "execution_count": 371,
      "metadata": {
        "colab": {
          "base_uri": "https://localhost:8080/",
          "height": 1000
        },
        "id": "D-CQOOww8Gvd",
        "outputId": "986d41d0-1b78-463c-da93-592ee06abf70"
      },
      "outputs": [],
      "source": [
        "# df = pd.read_excel('/mnt/g/Meu Drive/Colab Notebooks/censo_cultural.xlsx')\n",
        "df = pd.read_excel('censo_cultural.xlsx')"
      ]
    },
    {
      "cell_type": "markdown",
      "metadata": {},
      "source": [
        "#### 🔌 Functions"
      ]
    },
    {
      "cell_type": "markdown",
      "metadata": {},
      "source": [
        "##### Renomear colunas"
      ]
    },
    {
      "cell_type": "code",
      "execution_count": 372,
      "metadata": {
        "colab": {
          "base_uri": "https://localhost:8080/",
          "height": 1000
        },
        "id": "jz1Q1GgG8c_u",
        "outputId": "407a12fc-bfab-41d8-9da4-aadde9a4eb04"
      },
      "outputs": [],
      "source": [
        "def rename_columns()->None:\n",
        "    df.rename(columns={\n",
        "    '2) Qual o seu curso?': 'curso',\n",
        "    '3) Qual o Ano que está cursando? ': 'serie',\n",
        "    '5) Você é um aluno(a)...  ': 'tipo_residente',\n",
        "    '6) Quais dessas ATIVIDADES CULTURAIS você participa ou já participou?': 'atv_culturais',\n",
        "    '7) Quais dessas HABILIDADES MUSICAIS você possui?': 'hab_musicais',\n",
        "    '8) Quais desses ESPORTES você pratica?': 'esportes',\n",
        "    '9) Quais desses JOGOS você pratica?': 'jogos',\n",
        "    '10) Quais dessas LUTAS você pratica?': 'lutas',\n",
        "    '11) Em relação às 5 perguntas anteriores, quais dessas atividades você se considera bom e capaz de ensinar aos seus colegas?': 'melhores_atividades',\n",
        "    '12) Quais dessas ATIVIDADES CULTURAIS você gostaria de participar?': 'atv_culturais_a_fazer',\n",
        "    '13) Quais dessas HABILIDADES MUSICAIS você gostaria de possuir?': 'hab_musicais_desejadas',\n",
        "    '14) Quais desses ESPORTES você gostaria de praticar?': 'esportes_desejados',\n",
        "    '15) Quais desses JOGOS você gostaria de praticar?': 'jogos_desejados',\n",
        "    '16) Quais dessas LUTAS você gostaria de praticar?': 'lutas_desejadas',\n",
        "    '17) Em quais HORÁRIOS você teria disponibilidades para exercer Atividades Culturais?': 'horarios_disponiveis',\n",
        "    '18) Em quais LOCAIS você teria disponibilidades para exercer Atividades Culturais ': 'locais_disponiveis',\n",
        "    '19) Em relação às ESTRUTURAS EXISTENTES, o que você gostaria que melhorasse em nossa instituição?': 'melhoria_estrutura',\n",
        "    '20) Em relação às NOVAS ESTRUTURAS, o que você desejaria que houvesse em nossa instituição?': 'novas_estruturas',\n",
        "    '21) Em relação à ALIMENTAÇÃO, o que você desejaria que fosse melhorado em nossa instituição?': 'melhoria_alimentacao',\n",
        "    '22) Em relação ao TRANSPORTE, o que você desejaria que fosse melhorado?': 'transporte',\n",
        "    '23) Quais desse PROJETOS ESPECIAIS, você teria interesse em participar?': 'projetos_a_participar'\n",
        "}, inplace=True)"
      ]
    },
    {
      "cell_type": "markdown",
      "metadata": {},
      "source": [
        "##### Tratamento de strings"
      ]
    },
    {
      "cell_type": "code",
      "execution_count": 373,
      "metadata": {},
      "outputs": [],
      "source": [
        "def encoder(series_names: list)->None:\n",
        "   for serie_name in series_names:\n",
        "      enc = LabelEncoder()\n",
        "      df[serie_name] = enc.fit_transform(df[serie_name])"
      ]
    },
    {
      "cell_type": "code",
      "execution_count": 374,
      "metadata": {},
      "outputs": [],
      "source": [
        "import unidecode as uni\n",
        "\n",
        "def remove_accent(name):\n",
        "    return uni.unidecode(str(name))"
      ]
    },
    {
      "cell_type": "markdown",
      "metadata": {},
      "source": [
        "##### Dummies"
      ]
    },
    {
      "cell_type": "code",
      "execution_count": 375,
      "metadata": {},
      "outputs": [],
      "source": [
        "def insert_dummies(df: pd.DataFrame, dummies: pd.DataFrame, insert_position: int) -> None:\n",
        "    df = pd.concat([df.iloc[:, :insert_position], dummies, df.iloc[:, insert_position:]], axis=1)\n",
        "    df.drop('aux', axis=1, inplace=True)"
      ]
    },
    {
      "cell_type": "markdown",
      "metadata": {},
      "source": [
        "#### 📑 Pré-processamento dos dados"
      ]
    },
    {
      "cell_type": "code",
      "execution_count": 376,
      "metadata": {
        "id": "p_d61hjV8Tyb"
      },
      "outputs": [],
      "source": [
        "df.drop(columns=['Carimbo de data/hora', '1) Nome Completo: ', '4) Qual a sua Turma? '], inplace=True)"
      ]
    },
    {
      "cell_type": "code",
      "execution_count": 377,
      "metadata": {},
      "outputs": [],
      "source": [
        "rename_columns()"
      ]
    },
    {
      "cell_type": "code",
      "execution_count": 378,
      "metadata": {},
      "outputs": [],
      "source": [
        "for column in df.columns:\n",
        "    df[column] = df[column].str.lower()\n",
        "    df[column] = df[column].apply(remove_accent)"
      ]
    },
    {
      "cell_type": "code",
      "execution_count": 379,
      "metadata": {
        "colab": {
          "base_uri": "https://localhost:8080/"
        },
        "id": "RWBnA5SH9TuO",
        "outputId": "31f530a5-13c1-4311-b4b6-d3a502d412d7"
      },
      "outputs": [],
      "source": [
        "encoder([\n",
        "    'serie',\n",
        "    'tipo_residente',\n",
        "])"
      ]
    },
    {
      "cell_type": "code",
      "execution_count": 380,
      "metadata": {
        "colab": {
          "base_uri": "https://localhost:8080/",
          "height": 209
        },
        "id": "I_231Nuv-Rsc",
        "outputId": "c17f27a0-4ded-474b-c7b8-702c2f04c2d9"
      },
      "outputs": [
        {
          "name": "stdout",
          "output_type": "stream",
          "text": [
            "<class 'pandas.core.frame.DataFrame'>\n",
            "RangeIndex: 611 entries, 0 to 610\n",
            "Data columns (total 21 columns):\n",
            " #   Column                  Non-Null Count  Dtype \n",
            "---  ------                  --------------  ----- \n",
            " 0   curso                   611 non-null    object\n",
            " 1   serie                   611 non-null    int64 \n",
            " 2   tipo_residente          611 non-null    int64 \n",
            " 3   atv_culturais           611 non-null    object\n",
            " 4   hab_musicais            611 non-null    object\n",
            " 5   esportes                611 non-null    object\n",
            " 6   jogos                   611 non-null    object\n",
            " 7   lutas                   611 non-null    object\n",
            " 8   melhores_atividades     611 non-null    object\n",
            " 9   atv_culturais_a_fazer   611 non-null    object\n",
            " 10  hab_musicais_desejadas  611 non-null    object\n",
            " 11  esportes_desejados      611 non-null    object\n",
            " 12  jogos_desejados         611 non-null    object\n",
            " 13  lutas_desejadas         611 non-null    object\n",
            " 14  horarios_disponiveis    611 non-null    object\n",
            " 15  locais_disponiveis      611 non-null    object\n",
            " 16  melhoria_estrutura      611 non-null    object\n",
            " 17  novas_estruturas        611 non-null    object\n",
            " 18  melhoria_alimentacao    611 non-null    object\n",
            " 19  transporte              611 non-null    object\n",
            " 20  projetos_a_participar   611 non-null    object\n",
            "dtypes: int64(2), object(19)\n",
            "memory usage: 100.4+ KB\n"
          ]
        }
      ],
      "source": [
        "df.info()"
      ]
    },
    {
      "cell_type": "markdown",
      "metadata": {},
      "source": [
        "#### 📑 Pré processamento - Valores unicos"
      ]
    },
    {
      "cell_type": "markdown",
      "metadata": {},
      "source": [
        "##### atv_culturais"
      ]
    },
    {
      "cell_type": "code",
      "execution_count": 381,
      "metadata": {},
      "outputs": [],
      "source": [
        "df['aux'] = df['atv_culturais'].apply(\n",
        "    lambda column: [\n",
        "        item.strip() for item in column\n",
        "            .replace(' / ', '/')\n",
        "            .replace('/ ', '/')\n",
        "            .replace(' /', '/')\n",
        "            .replace('artes marciais', 'luta')\n",
        "            .replace('capoeira', 'luta')\n",
        "            .replace('karate', 'luta')\n",
        "            .replace('canto', 'musica')\n",
        "            .replace('outro: musica', 'musica')\n",
        "            .replace('praticava futsal no ginasio da vila sao joao', 'futsal')\n",
        "            .split(',')\n",
        "    ]\n",
        ")\n",
        "\n",
        "dummies = df['aux'].str.join('|').str.get_dummies(sep='|').add_prefix('atv_cultural_')\n",
        "\n",
        "insert_position = df.columns.get_loc('atv_culturais') + 1\n",
        "\n",
        "df = pd.concat([df.iloc[:, :insert_position], dummies, df.iloc[:, insert_position:]], axis=1)\n",
        "df.drop('aux', axis=1, inplace=True)"
      ]
    },
    {
      "cell_type": "markdown",
      "metadata": {},
      "source": [
        "##### hab_musicais"
      ]
    },
    {
      "cell_type": "code",
      "execution_count": 382,
      "metadata": {},
      "outputs": [],
      "source": [
        "df['aux'] = df['hab_musicais'].apply(\n",
        "    lambda column: [\n",
        "        item.strip() for item in column\n",
        "            .replace(' / ', '/')\n",
        "            .replace('/ ', '/')\n",
        "            .replace(' /', '/')\n",
        "            .split(',')\n",
        "    ]\n",
        ")\n",
        "\n",
        "dummies = df['aux'].str.join('|').str.get_dummies(sep='|').add_prefix('hab_musical_')\n",
        "\n",
        "insert_position = df.columns.get_loc('hab_musicais') + 1\n",
        "\n",
        "df = pd.concat([df.iloc[:, :insert_position], dummies, df.iloc[:, insert_position:]], axis=1)\n",
        "df.drop('aux', axis=1, inplace=True)"
      ]
    },
    {
      "cell_type": "markdown",
      "metadata": {},
      "source": [
        "##### esportes"
      ]
    },
    {
      "cell_type": "code",
      "execution_count": 383,
      "metadata": {},
      "outputs": [],
      "source": [
        "df['aux'] = df['esportes'].apply(\n",
        "    lambda column: [\n",
        "        item.strip() for item in column\n",
        "            .replace(' / ', '/')\n",
        "            .replace('/ ', '/')\n",
        "            .replace(' /', '/')\n",
        "            .replace('caminhada/corridaa', 'caminhada/corrida')\n",
        "            .replace('futbol de campo', 'futebol de campo')\n",
        "            .replace('futbol de salao', 'futebol de salao')\n",
        "            .replace('handbol', 'handebol')\n",
        "            .replace('musculacao', 'academia')\n",
        "            .replace('karate', 'artes marciais')\n",
        "            .split(',')\n",
        "    ]\n",
        ")\n",
        "\n",
        "dummies = df['aux'].str.join('|').str.get_dummies(sep='|').add_prefix('esporte_')\n",
        "\n",
        "insert_position = df.columns.get_loc('esportes') + 1\n",
        "\n",
        "df = pd.concat([df.iloc[:, :insert_position], dummies, df.iloc[:, insert_position:]], axis=1)\n",
        "df.drop('aux', axis=1, inplace=True)"
      ]
    },
    {
      "cell_type": "markdown",
      "metadata": {},
      "source": [
        "##### jogos"
      ]
    },
    {
      "cell_type": "code",
      "execution_count": 384,
      "metadata": {},
      "outputs": [],
      "source": [
        "df['aux'] = df['jogos'].apply(\n",
        "    lambda column: [\n",
        "        item.strip() for item in column\n",
        "            .replace(' / ', '/')\n",
        "            .replace('/ ', '/')\n",
        "            .replace(' /', '/')\n",
        "            .replace('assim como o de mesa', 'rpg')\n",
        "            .replace('filho da puta', 'nenhuma opcao')\n",
        "            .replace('league of legends', 'jogos eletronicos')\n",
        "            .replace('overwatch', 'jogos eletronicos')\n",
        "            .replace(\"(toto)\", '')\n",
        "            .replace('pebolin', 'pebolin/toto')\n",
        "            .replace('por exemplo o d&d', 'rpg')\n",
        "            .replace('rpg variados', 'rpg')\n",
        "            .replace('xadres', 'xadrez')\n",
        "            .split(',')\n",
        "    ]\n",
        ")\n",
        "\n",
        "dummies = df['aux'].str.join('|').str.get_dummies(sep='|').add_prefix('jogo_')\n",
        "\n",
        "insert_position = df.columns.get_loc('jogos') + 1\n",
        "\n",
        "df = pd.concat([df.iloc[:, :insert_position], dummies, df.iloc[:, insert_position:]], axis=1)\n",
        "df.drop('aux', axis=1, inplace=True)"
      ]
    },
    {
      "cell_type": "markdown",
      "metadata": {},
      "source": [
        "##### lutas"
      ]
    },
    {
      "cell_type": "code",
      "execution_count": 385,
      "metadata": {},
      "outputs": [],
      "source": [
        "df['aux'] = df['lutas'].apply(\n",
        "    lambda column: [\n",
        "        item.strip() for item in column\n",
        "            .replace(' / ', '/')\n",
        "            .replace('/ ', '/')\n",
        "            .replace(' /', '/')\n",
        "            .replace('ja pratiquei karate', 'karate')\n",
        "            .split(',')\n",
        "    ]\n",
        ")\n",
        "\n",
        "dummies = df['aux'].str.join('|').str.get_dummies(sep='|').add_prefix('luta_')\n",
        "\n",
        "insert_position = df.columns.get_loc('lutas') + 1\n",
        "\n",
        "df = pd.concat([df.iloc[:, :insert_position], dummies, df.iloc[:, insert_position:]], axis=1)\n",
        "df.drop('aux', axis=1, inplace=True)"
      ]
    },
    {
      "cell_type": "markdown",
      "metadata": {},
      "source": [
        "##### melhores_atividades <div style=\"color: #ce1b0c\"> VALIDAR NECESSIDADE </div>"
      ]
    },
    {
      "cell_type": "code",
      "execution_count": 386,
      "metadata": {},
      "outputs": [],
      "source": [
        "# df['aux'] = df['melhores_atividades'].apply(\n",
        "#     lambda column: [\n",
        "#         item.strip() for item in column\n",
        "#             .replace(' / ', '/')\n",
        "#             .replace('/ ', '/')\n",
        "#             .replace(' /', '/')\n",
        "#             .replace('ja pratiquei karate', 'karate')\n",
        "#             .split(',')\n",
        "#     ]\n",
        "# )\n",
        "\n",
        "# dummies = df['aux'].str.join('|').str.get_dummies(sep='|').add_prefix('melhores_atividades_')\n",
        "\n",
        "# insert_position = df.columns.get_loc('melhores_atividades') + 1\n",
        "\n",
        "# df = pd.concat([df.iloc[:, :insert_position], dummies, df.iloc[:, insert_position:]], axis=1)\n",
        "# df.drop('aux', axis=1, inplace=True)"
      ]
    },
    {
      "cell_type": "markdown",
      "metadata": {},
      "source": [
        "##### atv_culturais_a_fazer"
      ]
    },
    {
      "cell_type": "code",
      "execution_count": 387,
      "metadata": {},
      "outputs": [],
      "source": [
        "df['aux'] = df['atv_culturais_a_fazer'].apply(\n",
        "    lambda column: [\n",
        "        item.strip() for item in column\n",
        "            .replace(' / ', '/')\n",
        "            .replace('/ ', '/')\n",
        "            .replace(' /', '/')\n",
        "            .replace('aula de bateria', 'aprender algum instrumento')\n",
        "            .replace('tocar teclado ou outros instrumentos.', 'aprender algum instrumento')\n",
        "            .replace('(marquei poesia, mas sou boa em leitura, nao em escrever)', '')\n",
        "            .replace('outras opcoes (especifique) ou observacoes', '')\n",
        "            .replace('karate', 'luta')\n",
        "            .replace('jiu-jitsu', 'luta')\n",
        "            .split(',')\n",
        "    ]\n",
        ")\n",
        "\n",
        "dummies = df['aux'].str.join('|').str.get_dummies(sep='|').add_prefix('atv_culturais_a_fazer_')\n",
        "\n",
        "insert_position = df.columns.get_loc('atv_culturais_a_fazer') + 1\n",
        "\n",
        "df = pd.concat([df.iloc[:, :insert_position], dummies, df.iloc[:, insert_position:]], axis=1)\n",
        "df.drop('aux', axis=1, inplace=True)"
      ]
    },
    {
      "cell_type": "markdown",
      "metadata": {},
      "source": [
        "##### hab_musicais_desejadas"
      ]
    },
    {
      "cell_type": "code",
      "execution_count": 388,
      "metadata": {},
      "outputs": [],
      "source": [
        "df['aux'] = df['hab_musicais_desejadas'].apply(\n",
        "    lambda column: [\n",
        "        item.strip() for item in column\n",
        "            .replace(' / ', '/')\n",
        "            .replace('/ ', '/')\n",
        "            .replace(' /', '/')\n",
        "            .replace('percussao', '')\n",
        "            .replace('percussa', '')\n",
        "            .replace('bateria/', 'bateria/percussao')\n",
        "            .replace('violao/guitarra/demais instrumentos de corda', 'canto, instrumentos de corda')\n",
        "            .replace('canto/violao/guitarra/demais instrumentos de corda', 'canto/canto, instrumentos de corda')\n",
        "            .replace('canto/canto', 'canto')\n",
        "            .split(',')\n",
        "    ]\n",
        ")\n",
        "\n",
        "dummies = df['aux'].str.join('|').str.get_dummies(sep='|').add_prefix('hab_musicais_desejadas_')\n",
        "\n",
        "insert_position = df.columns.get_loc('hab_musicais_desejadas') + 1\n",
        "\n",
        "df = pd.concat([df.iloc[:, :insert_position], dummies, df.iloc[:, insert_position:]], axis=1)\n",
        "df.drop('aux', axis=1, inplace=True)"
      ]
    },
    {
      "cell_type": "markdown",
      "metadata": {},
      "source": [
        "##### esportes_desejados"
      ]
    },
    {
      "cell_type": "code",
      "execution_count": 389,
      "metadata": {},
      "outputs": [],
      "source": [
        "df['aux'] = df['esportes_desejados'].apply(\n",
        "    lambda column: [\n",
        "        item.strip() for item in column\n",
        "            .replace(' / ', '/')\n",
        "            .replace('/ ', '/')\n",
        "            .replace(' /', '/')\n",
        "            .replace('futbol de campo', 'futebol de campo')\n",
        "            .replace('futebol de campo/basquete/handebol/pingue pongue/peteca/futmesa', 'futebol de campo, basquete, handebol, pingue pongue, peteca, futmesa')\n",
        "            .replace('futvilei', 'futvolei')\n",
        "            .replace('handbol', 'handebol')\n",
        "            .replace('queimada e atletismo', 'queimada, atletismo')\n",
        "            .replace('voleiboll', 'voleibol')\n",
        "            .replace('voleiwheeling e moto crossboll', 'wheeling/moto cross')\n",
        "            .split(',')\n",
        "    ]\n",
        ")\n",
        "\n",
        "dummies = df['aux'].str.join('|').str.get_dummies(sep='|').add_prefix('esportes_desejados_')\n",
        "\n",
        "insert_position = df.columns.get_loc('esportes_desejados') + 1\n",
        "\n",
        "df = pd.concat([df.iloc[:, :insert_position], dummies, df.iloc[:, insert_position:]], axis=1)\n",
        "df.drop('aux', axis=1, inplace=True)"
      ]
    },
    {
      "cell_type": "markdown",
      "metadata": {},
      "source": [
        "##### jogos_desejados"
      ]
    },
    {
      "cell_type": "code",
      "execution_count": 390,
      "metadata": {},
      "outputs": [],
      "source": [
        "df['aux'] = df['jogos_desejados'].apply(\n",
        "    lambda column: [\n",
        "        item.strip() for item in column\n",
        "            .replace(' / ', '/')\n",
        "            .replace('/ ', '/')\n",
        "            .replace(' /', '/')\n",
        "            .replace(\"(toto)\", '')\n",
        "            .replace('pebolin', 'pebolin/toto')\n",
        "            .split(',')\n",
        "    ]\n",
        ")\n",
        "\n",
        "dummies = df['aux'].str.join('|').str.get_dummies(sep='|').add_prefix('jogos_desejados_')\n",
        "\n",
        "insert_position = df.columns.get_loc('jogos_desejados') + 1\n",
        "\n",
        "df = pd.concat([df.iloc[:, :insert_position], dummies, df.iloc[:, insert_position:]], axis=1)\n",
        "df.drop('aux', axis=1, inplace=True)"
      ]
    },
    {
      "cell_type": "markdown",
      "metadata": {},
      "source": [
        "##### lutas_desejadas"
      ]
    },
    {
      "cell_type": "code",
      "execution_count": 391,
      "metadata": {},
      "outputs": [],
      "source": [
        "df['aux'] = df['lutas_desejadas'].apply(\n",
        "    lambda column: [\n",
        "        item.strip() for item in column\n",
        "            .replace(' / ', '/')\n",
        "            .replace('/ ', '/')\n",
        "            .replace(' /', '/')\n",
        "            .replace(\"kung fuh\", 'kung fu')\n",
        "            .split(',')\n",
        "    ]\n",
        ")\n",
        "\n",
        "dummies = df['aux'].str.join('|').str.get_dummies(sep='|').add_prefix('lutas_desejadas_')\n",
        "\n",
        "insert_position = df.columns.get_loc('lutas_desejadas') + 1\n",
        "\n",
        "df = pd.concat([df.iloc[:, :insert_position], dummies, df.iloc[:, insert_position:]], axis=1)\n",
        "df.drop('aux', axis=1, inplace=True)"
      ]
    },
    {
      "cell_type": "code",
      "execution_count": 392,
      "metadata": {},
      "outputs": [],
      "source": [
        "df.drop(columns=[\n",
        "    'atv_culturais',\n",
        "    'hab_musicais',\n",
        "    'esportes',\n",
        "    'jogos',\n",
        "    'lutas',\n",
        "    'atv_culturais_a_fazer',\n",
        "    'hab_musicais_desejadas',\n",
        "    'esportes_desejados',\n",
        "    'jogos_desejados',\n",
        "    'lutas_desejadas',\n",
        "    # Analisar como fazer a tratativa nessas colunas ao invés de remover\n",
        "    'horarios_disponiveis',\n",
        "    'locais_disponiveis',\n",
        "    'melhoria_estrutura',\n",
        "    'novas_estruturas',\n",
        "    'melhoria_alimentacao',\n",
        "    'transporte',\n",
        "    'projetos_a_participar',\n",
        "], inplace=True)"
      ]
    },
    {
      "cell_type": "code",
      "execution_count": 393,
      "metadata": {},
      "outputs": [],
      "source": [
        "df.to_csv('data.csv', index=False)"
      ]
    },
    {
      "cell_type": "code",
      "execution_count": 394,
      "metadata": {},
      "outputs": [],
      "source": [
        "# Anqlisar viabilidade de usar essa técnica aqui também\n",
        "# def melt_columns(prefix: str, var_name: str, value_name: str):\n",
        "#     return df.melt(\n",
        "#         id_vars=[\"curso\"],\n",
        "#         value_vars=[col for col in df.columns if col.startswith(prefix)],\n",
        "#         var_name=var_name,\n",
        "#         value_name=value_name,\n",
        "#     )\n",
        "\n",
        "# atv_melt = melt_columns(\"atv_cultural_\", \"atividade\", \"tipo\")\n"
      ]
    },
    {
      "cell_type": "markdown",
      "metadata": {},
      "source": [
        "#### 💻️ Algoritmos"
      ]
    },
    {
      "cell_type": "markdown",
      "metadata": {},
      "source": [
        "##### 🧮 Classificação"
      ]
    },
    {
      "cell_type": "code",
      "execution_count": 395,
      "metadata": {},
      "outputs": [
        {
          "data": {
            "text/html": [
              "<style type=\"text/css\">\n",
              "#T_c074e_row10_col1 {\n",
              "  background-color: lightgreen;\n",
              "}\n",
              "</style>\n",
              "<table id=\"T_c074e\">\n",
              "  <thead>\n",
              "    <tr>\n",
              "      <th class=\"blank level0\" >&nbsp;</th>\n",
              "      <th id=\"T_c074e_level0_col0\" class=\"col_heading level0 col0\" >Description</th>\n",
              "      <th id=\"T_c074e_level0_col1\" class=\"col_heading level0 col1\" >Value</th>\n",
              "    </tr>\n",
              "  </thead>\n",
              "  <tbody>\n",
              "    <tr>\n",
              "      <th id=\"T_c074e_level0_row0\" class=\"row_heading level0 row0\" >0</th>\n",
              "      <td id=\"T_c074e_row0_col0\" class=\"data row0 col0\" >Session id</td>\n",
              "      <td id=\"T_c074e_row0_col1\" class=\"data row0 col1\" >123</td>\n",
              "    </tr>\n",
              "    <tr>\n",
              "      <th id=\"T_c074e_level0_row1\" class=\"row_heading level0 row1\" >1</th>\n",
              "      <td id=\"T_c074e_row1_col0\" class=\"data row1 col0\" >Target</td>\n",
              "      <td id=\"T_c074e_row1_col1\" class=\"data row1 col1\" >curso</td>\n",
              "    </tr>\n",
              "    <tr>\n",
              "      <th id=\"T_c074e_level0_row2\" class=\"row_heading level0 row2\" >2</th>\n",
              "      <td id=\"T_c074e_row2_col0\" class=\"data row2 col0\" >Target type</td>\n",
              "      <td id=\"T_c074e_row2_col1\" class=\"data row2 col1\" >Multiclass</td>\n",
              "    </tr>\n",
              "    <tr>\n",
              "      <th id=\"T_c074e_level0_row3\" class=\"row_heading level0 row3\" >3</th>\n",
              "      <td id=\"T_c074e_row3_col0\" class=\"data row3 col0\" >Target mapping</td>\n",
              "      <td id=\"T_c074e_row3_col1\" class=\"data row3 col1\" >agro: 0, info: 1, mamb: 2</td>\n",
              "    </tr>\n",
              "    <tr>\n",
              "      <th id=\"T_c074e_level0_row4\" class=\"row_heading level0 row4\" >4</th>\n",
              "      <td id=\"T_c074e_row4_col0\" class=\"data row4 col0\" >Original data shape</td>\n",
              "      <td id=\"T_c074e_row4_col1\" class=\"data row4 col1\" >(611, 148)</td>\n",
              "    </tr>\n",
              "    <tr>\n",
              "      <th id=\"T_c074e_level0_row5\" class=\"row_heading level0 row5\" >5</th>\n",
              "      <td id=\"T_c074e_row5_col0\" class=\"data row5 col0\" >Transformed data shape</td>\n",
              "      <td id=\"T_c074e_row5_col1\" class=\"data row5 col1\" >(611, 148)</td>\n",
              "    </tr>\n",
              "    <tr>\n",
              "      <th id=\"T_c074e_level0_row6\" class=\"row_heading level0 row6\" >6</th>\n",
              "      <td id=\"T_c074e_row6_col0\" class=\"data row6 col0\" >Transformed train set shape</td>\n",
              "      <td id=\"T_c074e_row6_col1\" class=\"data row6 col1\" >(427, 148)</td>\n",
              "    </tr>\n",
              "    <tr>\n",
              "      <th id=\"T_c074e_level0_row7\" class=\"row_heading level0 row7\" >7</th>\n",
              "      <td id=\"T_c074e_row7_col0\" class=\"data row7 col0\" >Transformed test set shape</td>\n",
              "      <td id=\"T_c074e_row7_col1\" class=\"data row7 col1\" >(184, 148)</td>\n",
              "    </tr>\n",
              "    <tr>\n",
              "      <th id=\"T_c074e_level0_row8\" class=\"row_heading level0 row8\" >8</th>\n",
              "      <td id=\"T_c074e_row8_col0\" class=\"data row8 col0\" >Numeric features</td>\n",
              "      <td id=\"T_c074e_row8_col1\" class=\"data row8 col1\" >146</td>\n",
              "    </tr>\n",
              "    <tr>\n",
              "      <th id=\"T_c074e_level0_row9\" class=\"row_heading level0 row9\" >9</th>\n",
              "      <td id=\"T_c074e_row9_col0\" class=\"data row9 col0\" >Categorical features</td>\n",
              "      <td id=\"T_c074e_row9_col1\" class=\"data row9 col1\" >1</td>\n",
              "    </tr>\n",
              "    <tr>\n",
              "      <th id=\"T_c074e_level0_row10\" class=\"row_heading level0 row10\" >10</th>\n",
              "      <td id=\"T_c074e_row10_col0\" class=\"data row10 col0\" >Preprocess</td>\n",
              "      <td id=\"T_c074e_row10_col1\" class=\"data row10 col1\" >True</td>\n",
              "    </tr>\n",
              "    <tr>\n",
              "      <th id=\"T_c074e_level0_row11\" class=\"row_heading level0 row11\" >11</th>\n",
              "      <td id=\"T_c074e_row11_col0\" class=\"data row11 col0\" >Imputation type</td>\n",
              "      <td id=\"T_c074e_row11_col1\" class=\"data row11 col1\" >simple</td>\n",
              "    </tr>\n",
              "    <tr>\n",
              "      <th id=\"T_c074e_level0_row12\" class=\"row_heading level0 row12\" >12</th>\n",
              "      <td id=\"T_c074e_row12_col0\" class=\"data row12 col0\" >Numeric imputation</td>\n",
              "      <td id=\"T_c074e_row12_col1\" class=\"data row12 col1\" >mean</td>\n",
              "    </tr>\n",
              "    <tr>\n",
              "      <th id=\"T_c074e_level0_row13\" class=\"row_heading level0 row13\" >13</th>\n",
              "      <td id=\"T_c074e_row13_col0\" class=\"data row13 col0\" >Categorical imputation</td>\n",
              "      <td id=\"T_c074e_row13_col1\" class=\"data row13 col1\" >mode</td>\n",
              "    </tr>\n",
              "    <tr>\n",
              "      <th id=\"T_c074e_level0_row14\" class=\"row_heading level0 row14\" >14</th>\n",
              "      <td id=\"T_c074e_row14_col0\" class=\"data row14 col0\" >Maximum one-hot encoding</td>\n",
              "      <td id=\"T_c074e_row14_col1\" class=\"data row14 col1\" >25</td>\n",
              "    </tr>\n",
              "    <tr>\n",
              "      <th id=\"T_c074e_level0_row15\" class=\"row_heading level0 row15\" >15</th>\n",
              "      <td id=\"T_c074e_row15_col0\" class=\"data row15 col0\" >Encoding method</td>\n",
              "      <td id=\"T_c074e_row15_col1\" class=\"data row15 col1\" >None</td>\n",
              "    </tr>\n",
              "    <tr>\n",
              "      <th id=\"T_c074e_level0_row16\" class=\"row_heading level0 row16\" >16</th>\n",
              "      <td id=\"T_c074e_row16_col0\" class=\"data row16 col0\" >Fold Generator</td>\n",
              "      <td id=\"T_c074e_row16_col1\" class=\"data row16 col1\" >StratifiedKFold</td>\n",
              "    </tr>\n",
              "    <tr>\n",
              "      <th id=\"T_c074e_level0_row17\" class=\"row_heading level0 row17\" >17</th>\n",
              "      <td id=\"T_c074e_row17_col0\" class=\"data row17 col0\" >Fold Number</td>\n",
              "      <td id=\"T_c074e_row17_col1\" class=\"data row17 col1\" >10</td>\n",
              "    </tr>\n",
              "    <tr>\n",
              "      <th id=\"T_c074e_level0_row18\" class=\"row_heading level0 row18\" >18</th>\n",
              "      <td id=\"T_c074e_row18_col0\" class=\"data row18 col0\" >CPU Jobs</td>\n",
              "      <td id=\"T_c074e_row18_col1\" class=\"data row18 col1\" >-1</td>\n",
              "    </tr>\n",
              "    <tr>\n",
              "      <th id=\"T_c074e_level0_row19\" class=\"row_heading level0 row19\" >19</th>\n",
              "      <td id=\"T_c074e_row19_col0\" class=\"data row19 col0\" >Use GPU</td>\n",
              "      <td id=\"T_c074e_row19_col1\" class=\"data row19 col1\" >False</td>\n",
              "    </tr>\n",
              "    <tr>\n",
              "      <th id=\"T_c074e_level0_row20\" class=\"row_heading level0 row20\" >20</th>\n",
              "      <td id=\"T_c074e_row20_col0\" class=\"data row20 col0\" >Log Experiment</td>\n",
              "      <td id=\"T_c074e_row20_col1\" class=\"data row20 col1\" >False</td>\n",
              "    </tr>\n",
              "    <tr>\n",
              "      <th id=\"T_c074e_level0_row21\" class=\"row_heading level0 row21\" >21</th>\n",
              "      <td id=\"T_c074e_row21_col0\" class=\"data row21 col0\" >Experiment Name</td>\n",
              "      <td id=\"T_c074e_row21_col1\" class=\"data row21 col1\" >clf-default-name</td>\n",
              "    </tr>\n",
              "    <tr>\n",
              "      <th id=\"T_c074e_level0_row22\" class=\"row_heading level0 row22\" >22</th>\n",
              "      <td id=\"T_c074e_row22_col0\" class=\"data row22 col0\" >USI</td>\n",
              "      <td id=\"T_c074e_row22_col1\" class=\"data row22 col1\" >96be</td>\n",
              "    </tr>\n",
              "  </tbody>\n",
              "</table>\n"
            ],
            "text/plain": [
              "<pandas.io.formats.style.Styler at 0x790680d43c90>"
            ]
          },
          "metadata": {},
          "output_type": "display_data"
        },
        {
          "data": {
            "text/plain": [
              "<pycaret.classification.oop.ClassificationExperiment at 0x790680c2e610>"
            ]
          },
          "execution_count": 395,
          "metadata": {},
          "output_type": "execute_result"
        }
      ],
      "source": [
        "s = ClassificationExperiment()\n",
        "s.setup(df, target='curso', session_id=123)"
      ]
    },
    {
      "cell_type": "code",
      "execution_count": 396,
      "metadata": {},
      "outputs": [
        {
          "data": {
            "text/html": [],
            "text/plain": [
              "<IPython.core.display.HTML object>"
            ]
          },
          "metadata": {},
          "output_type": "display_data"
        },
        {
          "data": {
            "text/html": [
              "<style type=\"text/css\">\n",
              "#T_7744d th {\n",
              "  text-align: left;\n",
              "}\n",
              "#T_7744d_row0_col0, #T_7744d_row0_col4, #T_7744d_row0_col5, #T_7744d_row0_col6, #T_7744d_row0_col7, #T_7744d_row1_col0, #T_7744d_row1_col1, #T_7744d_row1_col2, #T_7744d_row1_col3, #T_7744d_row1_col4, #T_7744d_row1_col5, #T_7744d_row1_col6, #T_7744d_row1_col7, #T_7744d_row2_col0, #T_7744d_row2_col1, #T_7744d_row2_col2, #T_7744d_row2_col3, #T_7744d_row2_col4, #T_7744d_row3_col0, #T_7744d_row3_col1, #T_7744d_row3_col2, #T_7744d_row3_col3, #T_7744d_row3_col4, #T_7744d_row3_col5, #T_7744d_row3_col6, #T_7744d_row3_col7, #T_7744d_row4_col0, #T_7744d_row4_col1, #T_7744d_row4_col2, #T_7744d_row4_col3, #T_7744d_row4_col4, #T_7744d_row4_col5, #T_7744d_row4_col6, #T_7744d_row4_col7, #T_7744d_row5_col0, #T_7744d_row5_col1, #T_7744d_row5_col2, #T_7744d_row5_col3, #T_7744d_row5_col5, #T_7744d_row5_col6, #T_7744d_row5_col7, #T_7744d_row6_col0, #T_7744d_row6_col1, #T_7744d_row6_col2, #T_7744d_row6_col3, #T_7744d_row6_col4, #T_7744d_row6_col5, #T_7744d_row6_col6, #T_7744d_row6_col7, #T_7744d_row7_col0, #T_7744d_row7_col1, #T_7744d_row7_col2, #T_7744d_row7_col3, #T_7744d_row7_col4, #T_7744d_row7_col5, #T_7744d_row7_col6, #T_7744d_row7_col7, #T_7744d_row8_col0, #T_7744d_row8_col1, #T_7744d_row8_col2, #T_7744d_row8_col3, #T_7744d_row8_col4, #T_7744d_row8_col5, #T_7744d_row8_col6, #T_7744d_row8_col7, #T_7744d_row9_col0, #T_7744d_row9_col1, #T_7744d_row9_col2, #T_7744d_row9_col3, #T_7744d_row9_col4, #T_7744d_row9_col5, #T_7744d_row9_col6, #T_7744d_row9_col7, #T_7744d_row10_col0, #T_7744d_row10_col1, #T_7744d_row10_col2, #T_7744d_row10_col3, #T_7744d_row10_col4, #T_7744d_row10_col5, #T_7744d_row10_col6, #T_7744d_row10_col7, #T_7744d_row11_col0, #T_7744d_row11_col1, #T_7744d_row11_col2, #T_7744d_row11_col3, #T_7744d_row11_col4, #T_7744d_row11_col5, #T_7744d_row11_col6, #T_7744d_row11_col7, #T_7744d_row12_col0, #T_7744d_row12_col1, #T_7744d_row12_col2, #T_7744d_row12_col3, #T_7744d_row12_col4, #T_7744d_row12_col5, #T_7744d_row12_col6, #T_7744d_row12_col7, #T_7744d_row13_col0, #T_7744d_row13_col1, #T_7744d_row13_col2, #T_7744d_row13_col3, #T_7744d_row13_col4, #T_7744d_row13_col5, #T_7744d_row13_col6, #T_7744d_row13_col7 {\n",
              "  text-align: left;\n",
              "}\n",
              "#T_7744d_row0_col1, #T_7744d_row0_col2, #T_7744d_row0_col3, #T_7744d_row2_col5, #T_7744d_row2_col6, #T_7744d_row2_col7, #T_7744d_row5_col4 {\n",
              "  text-align: left;\n",
              "  background-color: yellow;\n",
              "}\n",
              "#T_7744d_row0_col8, #T_7744d_row1_col8, #T_7744d_row2_col8, #T_7744d_row3_col8, #T_7744d_row4_col8, #T_7744d_row5_col8, #T_7744d_row6_col8, #T_7744d_row8_col8, #T_7744d_row10_col8, #T_7744d_row11_col8, #T_7744d_row12_col8, #T_7744d_row13_col8 {\n",
              "  text-align: left;\n",
              "  background-color: lightgrey;\n",
              "}\n",
              "#T_7744d_row7_col8, #T_7744d_row9_col8 {\n",
              "  text-align: left;\n",
              "  background-color: yellow;\n",
              "  background-color: lightgrey;\n",
              "}\n",
              "</style>\n",
              "<table id=\"T_7744d\">\n",
              "  <thead>\n",
              "    <tr>\n",
              "      <th class=\"blank level0\" >&nbsp;</th>\n",
              "      <th id=\"T_7744d_level0_col0\" class=\"col_heading level0 col0\" >Model</th>\n",
              "      <th id=\"T_7744d_level0_col1\" class=\"col_heading level0 col1\" >Accuracy</th>\n",
              "      <th id=\"T_7744d_level0_col2\" class=\"col_heading level0 col2\" >AUC</th>\n",
              "      <th id=\"T_7744d_level0_col3\" class=\"col_heading level0 col3\" >Recall</th>\n",
              "      <th id=\"T_7744d_level0_col4\" class=\"col_heading level0 col4\" >Prec.</th>\n",
              "      <th id=\"T_7744d_level0_col5\" class=\"col_heading level0 col5\" >F1</th>\n",
              "      <th id=\"T_7744d_level0_col6\" class=\"col_heading level0 col6\" >Kappa</th>\n",
              "      <th id=\"T_7744d_level0_col7\" class=\"col_heading level0 col7\" >MCC</th>\n",
              "      <th id=\"T_7744d_level0_col8\" class=\"col_heading level0 col8\" >TT (Sec)</th>\n",
              "    </tr>\n",
              "  </thead>\n",
              "  <tbody>\n",
              "    <tr>\n",
              "      <th id=\"T_7744d_level0_row0\" class=\"row_heading level0 row0\" >et</th>\n",
              "      <td id=\"T_7744d_row0_col0\" class=\"data row0 col0\" >Extra Trees Classifier</td>\n",
              "      <td id=\"T_7744d_row0_col1\" class=\"data row0 col1\" >0.5198</td>\n",
              "      <td id=\"T_7744d_row0_col2\" class=\"data row0 col2\" >0.6490</td>\n",
              "      <td id=\"T_7744d_row0_col3\" class=\"data row0 col3\" >0.5198</td>\n",
              "      <td id=\"T_7744d_row0_col4\" class=\"data row0 col4\" >0.4849</td>\n",
              "      <td id=\"T_7744d_row0_col5\" class=\"data row0 col5\" >0.4835</td>\n",
              "      <td id=\"T_7744d_row0_col6\" class=\"data row0 col6\" >0.1798</td>\n",
              "      <td id=\"T_7744d_row0_col7\" class=\"data row0 col7\" >0.1910</td>\n",
              "      <td id=\"T_7744d_row0_col8\" class=\"data row0 col8\" >0.0310</td>\n",
              "    </tr>\n",
              "    <tr>\n",
              "      <th id=\"T_7744d_level0_row1\" class=\"row_heading level0 row1\" >rf</th>\n",
              "      <td id=\"T_7744d_row1_col0\" class=\"data row1 col0\" >Random Forest Classifier</td>\n",
              "      <td id=\"T_7744d_row1_col1\" class=\"data row1 col1\" >0.5080</td>\n",
              "      <td id=\"T_7744d_row1_col2\" class=\"data row1 col2\" >0.6409</td>\n",
              "      <td id=\"T_7744d_row1_col3\" class=\"data row1 col3\" >0.5080</td>\n",
              "      <td id=\"T_7744d_row1_col4\" class=\"data row1 col4\" >0.4784</td>\n",
              "      <td id=\"T_7744d_row1_col5\" class=\"data row1 col5\" >0.4719</td>\n",
              "      <td id=\"T_7744d_row1_col6\" class=\"data row1 col6\" >0.1597</td>\n",
              "      <td id=\"T_7744d_row1_col7\" class=\"data row1 col7\" >0.1717</td>\n",
              "      <td id=\"T_7744d_row1_col8\" class=\"data row1 col8\" >0.0330</td>\n",
              "    </tr>\n",
              "    <tr>\n",
              "      <th id=\"T_7744d_level0_row2\" class=\"row_heading level0 row2\" >lr</th>\n",
              "      <td id=\"T_7744d_row2_col0\" class=\"data row2 col0\" >Logistic Regression</td>\n",
              "      <td id=\"T_7744d_row2_col1\" class=\"data row2 col1\" >0.4937</td>\n",
              "      <td id=\"T_7744d_row2_col2\" class=\"data row2 col2\" >0.0000</td>\n",
              "      <td id=\"T_7744d_row2_col3\" class=\"data row2 col3\" >0.4937</td>\n",
              "      <td id=\"T_7744d_row2_col4\" class=\"data row2 col4\" >0.4928</td>\n",
              "      <td id=\"T_7744d_row2_col5\" class=\"data row2 col5\" >0.4881</td>\n",
              "      <td id=\"T_7744d_row2_col6\" class=\"data row2 col6\" >0.1898</td>\n",
              "      <td id=\"T_7744d_row2_col7\" class=\"data row2 col7\" >0.1924</td>\n",
              "      <td id=\"T_7744d_row2_col8\" class=\"data row2 col8\" >0.1750</td>\n",
              "    </tr>\n",
              "    <tr>\n",
              "      <th id=\"T_7744d_level0_row3\" class=\"row_heading level0 row3\" >gbc</th>\n",
              "      <td id=\"T_7744d_row3_col0\" class=\"data row3 col0\" >Gradient Boosting Classifier</td>\n",
              "      <td id=\"T_7744d_row3_col1\" class=\"data row3 col1\" >0.4915</td>\n",
              "      <td id=\"T_7744d_row3_col2\" class=\"data row3 col2\" >0.0000</td>\n",
              "      <td id=\"T_7744d_row3_col3\" class=\"data row3 col3\" >0.4915</td>\n",
              "      <td id=\"T_7744d_row3_col4\" class=\"data row3 col4\" >0.4936</td>\n",
              "      <td id=\"T_7744d_row3_col5\" class=\"data row3 col5\" >0.4851</td>\n",
              "      <td id=\"T_7744d_row3_col6\" class=\"data row3 col6\" >0.1773</td>\n",
              "      <td id=\"T_7744d_row3_col7\" class=\"data row3 col7\" >0.1807</td>\n",
              "      <td id=\"T_7744d_row3_col8\" class=\"data row3 col8\" >0.0640</td>\n",
              "    </tr>\n",
              "    <tr>\n",
              "      <th id=\"T_7744d_level0_row4\" class=\"row_heading level0 row4\" >qda</th>\n",
              "      <td id=\"T_7744d_row4_col0\" class=\"data row4 col0\" >Quadratic Discriminant Analysis</td>\n",
              "      <td id=\"T_7744d_row4_col1\" class=\"data row4 col1\" >0.4872</td>\n",
              "      <td id=\"T_7744d_row4_col2\" class=\"data row4 col2\" >0.0000</td>\n",
              "      <td id=\"T_7744d_row4_col3\" class=\"data row4 col3\" >0.4872</td>\n",
              "      <td id=\"T_7744d_row4_col4\" class=\"data row4 col4\" >0.3785</td>\n",
              "      <td id=\"T_7744d_row4_col5\" class=\"data row4 col5\" >0.3616</td>\n",
              "      <td id=\"T_7744d_row4_col6\" class=\"data row4 col6\" >0.0446</td>\n",
              "      <td id=\"T_7744d_row4_col7\" class=\"data row4 col7\" >0.0723</td>\n",
              "      <td id=\"T_7744d_row4_col8\" class=\"data row4 col8\" >0.0140</td>\n",
              "    </tr>\n",
              "    <tr>\n",
              "      <th id=\"T_7744d_level0_row5\" class=\"row_heading level0 row5\" >knn</th>\n",
              "      <td id=\"T_7744d_row5_col0\" class=\"data row5 col0\" >K Neighbors Classifier</td>\n",
              "      <td id=\"T_7744d_row5_col1\" class=\"data row5 col1\" >0.4844</td>\n",
              "      <td id=\"T_7744d_row5_col2\" class=\"data row5 col2\" >0.5970</td>\n",
              "      <td id=\"T_7744d_row5_col3\" class=\"data row5 col3\" >0.4844</td>\n",
              "      <td id=\"T_7744d_row5_col4\" class=\"data row5 col4\" >0.4953</td>\n",
              "      <td id=\"T_7744d_row5_col5\" class=\"data row5 col5\" >0.4641</td>\n",
              "      <td id=\"T_7744d_row5_col6\" class=\"data row5 col6\" >0.1580</td>\n",
              "      <td id=\"T_7744d_row5_col7\" class=\"data row5 col7\" >0.1642</td>\n",
              "      <td id=\"T_7744d_row5_col8\" class=\"data row5 col8\" >0.0850</td>\n",
              "    </tr>\n",
              "    <tr>\n",
              "      <th id=\"T_7744d_level0_row6\" class=\"row_heading level0 row6\" >dummy</th>\n",
              "      <td id=\"T_7744d_row6_col0\" class=\"data row6 col0\" >Dummy Classifier</td>\n",
              "      <td id=\"T_7744d_row6_col1\" class=\"data row6 col1\" >0.4824</td>\n",
              "      <td id=\"T_7744d_row6_col2\" class=\"data row6 col2\" >0.5000</td>\n",
              "      <td id=\"T_7744d_row6_col3\" class=\"data row6 col3\" >0.4824</td>\n",
              "      <td id=\"T_7744d_row6_col4\" class=\"data row6 col4\" >0.2328</td>\n",
              "      <td id=\"T_7744d_row6_col5\" class=\"data row6 col5\" >0.3140</td>\n",
              "      <td id=\"T_7744d_row6_col6\" class=\"data row6 col6\" >0.0000</td>\n",
              "      <td id=\"T_7744d_row6_col7\" class=\"data row6 col7\" >0.0000</td>\n",
              "      <td id=\"T_7744d_row6_col8\" class=\"data row6 col8\" >0.0160</td>\n",
              "    </tr>\n",
              "    <tr>\n",
              "      <th id=\"T_7744d_level0_row7\" class=\"row_heading level0 row7\" >ridge</th>\n",
              "      <td id=\"T_7744d_row7_col0\" class=\"data row7 col0\" >Ridge Classifier</td>\n",
              "      <td id=\"T_7744d_row7_col1\" class=\"data row7 col1\" >0.4730</td>\n",
              "      <td id=\"T_7744d_row7_col2\" class=\"data row7 col2\" >0.0000</td>\n",
              "      <td id=\"T_7744d_row7_col3\" class=\"data row7 col3\" >0.4730</td>\n",
              "      <td id=\"T_7744d_row7_col4\" class=\"data row7 col4\" >0.4703</td>\n",
              "      <td id=\"T_7744d_row7_col5\" class=\"data row7 col5\" >0.4665</td>\n",
              "      <td id=\"T_7744d_row7_col6\" class=\"data row7 col6\" >0.1499</td>\n",
              "      <td id=\"T_7744d_row7_col7\" class=\"data row7 col7\" >0.1516</td>\n",
              "      <td id=\"T_7744d_row7_col8\" class=\"data row7 col8\" >0.0120</td>\n",
              "    </tr>\n",
              "    <tr>\n",
              "      <th id=\"T_7744d_level0_row8\" class=\"row_heading level0 row8\" >ada</th>\n",
              "      <td id=\"T_7744d_row8_col0\" class=\"data row8 col0\" >Ada Boost Classifier</td>\n",
              "      <td id=\"T_7744d_row8_col1\" class=\"data row8 col1\" >0.4677</td>\n",
              "      <td id=\"T_7744d_row8_col2\" class=\"data row8 col2\" >0.0000</td>\n",
              "      <td id=\"T_7744d_row8_col3\" class=\"data row8 col3\" >0.4677</td>\n",
              "      <td id=\"T_7744d_row8_col4\" class=\"data row8 col4\" >0.4812</td>\n",
              "      <td id=\"T_7744d_row8_col5\" class=\"data row8 col5\" >0.4658</td>\n",
              "      <td id=\"T_7744d_row8_col6\" class=\"data row8 col6\" >0.1594</td>\n",
              "      <td id=\"T_7744d_row8_col7\" class=\"data row8 col7\" >0.1618</td>\n",
              "      <td id=\"T_7744d_row8_col8\" class=\"data row8 col8\" >0.0240</td>\n",
              "    </tr>\n",
              "    <tr>\n",
              "      <th id=\"T_7744d_level0_row9\" class=\"row_heading level0 row9\" >dt</th>\n",
              "      <td id=\"T_7744d_row9_col0\" class=\"data row9 col0\" >Decision Tree Classifier</td>\n",
              "      <td id=\"T_7744d_row9_col1\" class=\"data row9 col1\" >0.4632</td>\n",
              "      <td id=\"T_7744d_row9_col2\" class=\"data row9 col2\" >0.5774</td>\n",
              "      <td id=\"T_7744d_row9_col3\" class=\"data row9 col3\" >0.4632</td>\n",
              "      <td id=\"T_7744d_row9_col4\" class=\"data row9 col4\" >0.4670</td>\n",
              "      <td id=\"T_7744d_row9_col5\" class=\"data row9 col5\" >0.4592</td>\n",
              "      <td id=\"T_7744d_row9_col6\" class=\"data row9 col6\" >0.1557</td>\n",
              "      <td id=\"T_7744d_row9_col7\" class=\"data row9 col7\" >0.1582</td>\n",
              "      <td id=\"T_7744d_row9_col8\" class=\"data row9 col8\" >0.0120</td>\n",
              "    </tr>\n",
              "    <tr>\n",
              "      <th id=\"T_7744d_level0_row10\" class=\"row_heading level0 row10\" >svm</th>\n",
              "      <td id=\"T_7744d_row10_col0\" class=\"data row10 col0\" >SVM - Linear Kernel</td>\n",
              "      <td id=\"T_7744d_row10_col1\" class=\"data row10 col1\" >0.4561</td>\n",
              "      <td id=\"T_7744d_row10_col2\" class=\"data row10 col2\" >0.0000</td>\n",
              "      <td id=\"T_7744d_row10_col3\" class=\"data row10 col3\" >0.4561</td>\n",
              "      <td id=\"T_7744d_row10_col4\" class=\"data row10 col4\" >0.4701</td>\n",
              "      <td id=\"T_7744d_row10_col5\" class=\"data row10 col5\" >0.4504</td>\n",
              "      <td id=\"T_7744d_row10_col6\" class=\"data row10 col6\" >0.1549</td>\n",
              "      <td id=\"T_7744d_row10_col7\" class=\"data row10 col7\" >0.1597</td>\n",
              "      <td id=\"T_7744d_row10_col8\" class=\"data row10 col8\" >0.0140</td>\n",
              "    </tr>\n",
              "    <tr>\n",
              "      <th id=\"T_7744d_level0_row11\" class=\"row_heading level0 row11\" >lda</th>\n",
              "      <td id=\"T_7744d_row11_col0\" class=\"data row11 col0\" >Linear Discriminant Analysis</td>\n",
              "      <td id=\"T_7744d_row11_col1\" class=\"data row11 col1\" >0.4542</td>\n",
              "      <td id=\"T_7744d_row11_col2\" class=\"data row11 col2\" >0.0000</td>\n",
              "      <td id=\"T_7744d_row11_col3\" class=\"data row11 col3\" >0.4542</td>\n",
              "      <td id=\"T_7744d_row11_col4\" class=\"data row11 col4\" >0.4562</td>\n",
              "      <td id=\"T_7744d_row11_col5\" class=\"data row11 col5\" >0.4506</td>\n",
              "      <td id=\"T_7744d_row11_col6\" class=\"data row11 col6\" >0.1336</td>\n",
              "      <td id=\"T_7744d_row11_col7\" class=\"data row11 col7\" >0.1352</td>\n",
              "      <td id=\"T_7744d_row11_col8\" class=\"data row11 col8\" >0.0140</td>\n",
              "    </tr>\n",
              "    <tr>\n",
              "      <th id=\"T_7744d_level0_row12\" class=\"row_heading level0 row12\" >lightgbm</th>\n",
              "      <td id=\"T_7744d_row12_col0\" class=\"data row12 col0\" >Light Gradient Boosting Machine</td>\n",
              "      <td id=\"T_7744d_row12_col1\" class=\"data row12 col1\" >0.4491</td>\n",
              "      <td id=\"T_7744d_row12_col2\" class=\"data row12 col2\" >0.5961</td>\n",
              "      <td id=\"T_7744d_row12_col3\" class=\"data row12 col3\" >0.4491</td>\n",
              "      <td id=\"T_7744d_row12_col4\" class=\"data row12 col4\" >0.4533</td>\n",
              "      <td id=\"T_7744d_row12_col5\" class=\"data row12 col5\" >0.4454</td>\n",
              "      <td id=\"T_7744d_row12_col6\" class=\"data row12 col6\" >0.1171</td>\n",
              "      <td id=\"T_7744d_row12_col7\" class=\"data row12 col7\" >0.1189</td>\n",
              "      <td id=\"T_7744d_row12_col8\" class=\"data row12 col8\" >0.1380</td>\n",
              "    </tr>\n",
              "    <tr>\n",
              "      <th id=\"T_7744d_level0_row13\" class=\"row_heading level0 row13\" >nb</th>\n",
              "      <td id=\"T_7744d_row13_col0\" class=\"data row13 col0\" >Naive Bayes</td>\n",
              "      <td id=\"T_7744d_row13_col1\" class=\"data row13 col1\" >0.3255</td>\n",
              "      <td id=\"T_7744d_row13_col2\" class=\"data row13 col2\" >0.5995</td>\n",
              "      <td id=\"T_7744d_row13_col3\" class=\"data row13 col3\" >0.3255</td>\n",
              "      <td id=\"T_7744d_row13_col4\" class=\"data row13 col4\" >0.4442</td>\n",
              "      <td id=\"T_7744d_row13_col5\" class=\"data row13 col5\" >0.2062</td>\n",
              "      <td id=\"T_7744d_row13_col6\" class=\"data row13 col6\" >0.0220</td>\n",
              "      <td id=\"T_7744d_row13_col7\" class=\"data row13 col7\" >0.0602</td>\n",
              "      <td id=\"T_7744d_row13_col8\" class=\"data row13 col8\" >0.0130</td>\n",
              "    </tr>\n",
              "  </tbody>\n",
              "</table>\n"
            ],
            "text/plain": [
              "<pandas.io.formats.style.Styler at 0x790680d20410>"
            ]
          },
          "metadata": {},
          "output_type": "display_data"
        },
        {
          "data": {
            "text/html": [],
            "text/plain": [
              "<IPython.core.display.HTML object>"
            ]
          },
          "metadata": {},
          "output_type": "display_data"
        }
      ],
      "source": [
        "best = s.compare_models()"
      ]
    }
  ],
  "metadata": {
    "colab": {
      "provenance": []
    },
    "kernelspec": {
      "display_name": ".venv",
      "language": "python",
      "name": "python3"
    },
    "language_info": {
      "codemirror_mode": {
        "name": "ipython",
        "version": 3
      },
      "file_extension": ".py",
      "mimetype": "text/x-python",
      "name": "python",
      "nbconvert_exporter": "python",
      "pygments_lexer": "ipython3",
      "version": "3.11.11"
    }
  },
  "nbformat": 4,
  "nbformat_minor": 0
}
